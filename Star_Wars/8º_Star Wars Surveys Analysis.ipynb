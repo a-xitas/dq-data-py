{
 "cells": [
  {
   "cell_type": "markdown",
   "metadata": {
    "collapsed": true
   },
   "source": [
    "# Star Wars Surveys Analysis"
   ]
  },
  {
   "cell_type": "markdown",
   "metadata": {},
   "source": [
    "## === Exordium ===\n",
    "#### - In the following analysis we will be working with a Dataset about some questions compiled by the team at FiveThirtyEight, and address to the American Star Wars fan base.\n",
    "#### - The purpose of the team with this surveys was to answer some questions such as: was the Episode V - The Empire Strikes Back, the favourite movie from the fans? If not which was? What were their favourite characters? Does Education levels from the side of the fans, present themselves as a differentiator in the rating of the 6 Star Wars movies from the saga?  Do we see differences in the fan base tastes when we segment the data in terms of Gender.  And what was the most seen movie of all?\n",
    "#### - Because the Dataset had some dirty datapoints and some of the data was inserted in a columns dependency level we will need, prior to do the analysis, to do some cleaning. So first we will put our hands in the dough by cleaning what needs to be cleaned from the Dataset, and then we will do our analysis by resorting to some plots in order to better grasp the full potential of the data and to try to unlock some of its questions."
   ]
  },
  {
   "cell_type": "markdown",
   "metadata": {},
   "source": [
    "## Cleaning the Dataset - Episode 1"
   ]
  },
  {
   "cell_type": "code",
   "execution_count": 1,
   "metadata": {
    "collapsed": false
   },
   "outputs": [
    {
     "data": {
      "text/html": [
       "<div>\n",
       "<style scoped>\n",
       "    .dataframe tbody tr th:only-of-type {\n",
       "        vertical-align: middle;\n",
       "    }\n",
       "\n",
       "    .dataframe tbody tr th {\n",
       "        vertical-align: top;\n",
       "    }\n",
       "\n",
       "    .dataframe thead th {\n",
       "        text-align: right;\n",
       "    }\n",
       "</style>\n",
       "<table border=\"1\" class=\"dataframe\">\n",
       "  <thead>\n",
       "    <tr style=\"text-align: right;\">\n",
       "      <th></th>\n",
       "      <th>RespondentID</th>\n",
       "      <th>Have you seen any of the 6 films in the Star Wars franchise?</th>\n",
       "      <th>Do you consider yourself to be a fan of the Star Wars film franchise?</th>\n",
       "      <th>Which of the following Star Wars films have you seen? Please select all that apply.</th>\n",
       "      <th>Unnamed: 4</th>\n",
       "      <th>Unnamed: 5</th>\n",
       "      <th>Unnamed: 6</th>\n",
       "      <th>Unnamed: 7</th>\n",
       "      <th>Unnamed: 8</th>\n",
       "      <th>Please rank the Star Wars films in order of preference with 1 being your favorite film in the franchise and 6 being your least favorite film.</th>\n",
       "      <th>...</th>\n",
       "      <th>Unnamed: 28</th>\n",
       "      <th>Which character shot first?</th>\n",
       "      <th>Are you familiar with the Expanded Universe?</th>\n",
       "      <th>Do you consider yourself to be a fan of the Expanded Universe?ÂÃ¦</th>\n",
       "      <th>Do you consider yourself to be a fan of the Star Trek franchise?</th>\n",
       "      <th>Gender</th>\n",
       "      <th>Age</th>\n",
       "      <th>Household Income</th>\n",
       "      <th>Education</th>\n",
       "      <th>Location (Census Region)</th>\n",
       "    </tr>\n",
       "  </thead>\n",
       "  <tbody>\n",
       "    <tr>\n",
       "      <th>0</th>\n",
       "      <td>NaN</td>\n",
       "      <td>Response</td>\n",
       "      <td>Response</td>\n",
       "      <td>Star Wars: Episode I  The Phantom Menace</td>\n",
       "      <td>Star Wars: Episode II  Attack of the Clones</td>\n",
       "      <td>Star Wars: Episode III  Revenge of the Sith</td>\n",
       "      <td>Star Wars: Episode IV  A New Hope</td>\n",
       "      <td>Star Wars: Episode V The Empire Strikes Back</td>\n",
       "      <td>Star Wars: Episode VI Return of the Jedi</td>\n",
       "      <td>Star Wars: Episode I  The Phantom Menace</td>\n",
       "      <td>...</td>\n",
       "      <td>Yoda</td>\n",
       "      <td>Response</td>\n",
       "      <td>Response</td>\n",
       "      <td>Response</td>\n",
       "      <td>Response</td>\n",
       "      <td>Response</td>\n",
       "      <td>Response</td>\n",
       "      <td>Response</td>\n",
       "      <td>Response</td>\n",
       "      <td>Response</td>\n",
       "    </tr>\n",
       "    <tr>\n",
       "      <th>1</th>\n",
       "      <td>3.292880e+09</td>\n",
       "      <td>Yes</td>\n",
       "      <td>Yes</td>\n",
       "      <td>Star Wars: Episode I  The Phantom Menace</td>\n",
       "      <td>Star Wars: Episode II  Attack of the Clones</td>\n",
       "      <td>Star Wars: Episode III  Revenge of the Sith</td>\n",
       "      <td>Star Wars: Episode IV  A New Hope</td>\n",
       "      <td>Star Wars: Episode V The Empire Strikes Back</td>\n",
       "      <td>Star Wars: Episode VI Return of the Jedi</td>\n",
       "      <td>3</td>\n",
       "      <td>...</td>\n",
       "      <td>Very favorably</td>\n",
       "      <td>I don't understand this question</td>\n",
       "      <td>Yes</td>\n",
       "      <td>No</td>\n",
       "      <td>No</td>\n",
       "      <td>Male</td>\n",
       "      <td>18-29</td>\n",
       "      <td>NaN</td>\n",
       "      <td>High school degree</td>\n",
       "      <td>South Atlantic</td>\n",
       "    </tr>\n",
       "    <tr>\n",
       "      <th>2</th>\n",
       "      <td>3.292880e+09</td>\n",
       "      <td>No</td>\n",
       "      <td>NaN</td>\n",
       "      <td>NaN</td>\n",
       "      <td>NaN</td>\n",
       "      <td>NaN</td>\n",
       "      <td>NaN</td>\n",
       "      <td>NaN</td>\n",
       "      <td>NaN</td>\n",
       "      <td>NaN</td>\n",
       "      <td>...</td>\n",
       "      <td>NaN</td>\n",
       "      <td>NaN</td>\n",
       "      <td>NaN</td>\n",
       "      <td>NaN</td>\n",
       "      <td>Yes</td>\n",
       "      <td>Male</td>\n",
       "      <td>18-29</td>\n",
       "      <td>$0 - $24,999</td>\n",
       "      <td>Bachelor degree</td>\n",
       "      <td>West South Central</td>\n",
       "    </tr>\n",
       "    <tr>\n",
       "      <th>3</th>\n",
       "      <td>3.292765e+09</td>\n",
       "      <td>Yes</td>\n",
       "      <td>No</td>\n",
       "      <td>Star Wars: Episode I  The Phantom Menace</td>\n",
       "      <td>Star Wars: Episode II  Attack of the Clones</td>\n",
       "      <td>Star Wars: Episode III  Revenge of the Sith</td>\n",
       "      <td>NaN</td>\n",
       "      <td>NaN</td>\n",
       "      <td>NaN</td>\n",
       "      <td>1</td>\n",
       "      <td>...</td>\n",
       "      <td>Unfamiliar (N/A)</td>\n",
       "      <td>I don't understand this question</td>\n",
       "      <td>No</td>\n",
       "      <td>NaN</td>\n",
       "      <td>No</td>\n",
       "      <td>Male</td>\n",
       "      <td>18-29</td>\n",
       "      <td>$0 - $24,999</td>\n",
       "      <td>High school degree</td>\n",
       "      <td>West North Central</td>\n",
       "    </tr>\n",
       "    <tr>\n",
       "      <th>4</th>\n",
       "      <td>3.292763e+09</td>\n",
       "      <td>Yes</td>\n",
       "      <td>Yes</td>\n",
       "      <td>Star Wars: Episode I  The Phantom Menace</td>\n",
       "      <td>Star Wars: Episode II  Attack of the Clones</td>\n",
       "      <td>Star Wars: Episode III  Revenge of the Sith</td>\n",
       "      <td>Star Wars: Episode IV  A New Hope</td>\n",
       "      <td>Star Wars: Episode V The Empire Strikes Back</td>\n",
       "      <td>Star Wars: Episode VI Return of the Jedi</td>\n",
       "      <td>5</td>\n",
       "      <td>...</td>\n",
       "      <td>Very favorably</td>\n",
       "      <td>I don't understand this question</td>\n",
       "      <td>No</td>\n",
       "      <td>NaN</td>\n",
       "      <td>Yes</td>\n",
       "      <td>Male</td>\n",
       "      <td>18-29</td>\n",
       "      <td>$100,000 - $149,999</td>\n",
       "      <td>Some college or Associate degree</td>\n",
       "      <td>West North Central</td>\n",
       "    </tr>\n",
       "  </tbody>\n",
       "</table>\n",
       "<p>5 rows × 38 columns</p>\n",
       "</div>"
      ],
      "text/plain": [
       "   RespondentID Have you seen any of the 6 films in the Star Wars franchise?  \\\n",
       "0           NaN                                           Response             \n",
       "1  3.292880e+09                                                Yes             \n",
       "2  3.292880e+09                                                 No             \n",
       "3  3.292765e+09                                                Yes             \n",
       "4  3.292763e+09                                                Yes             \n",
       "\n",
       "  Do you consider yourself to be a fan of the Star Wars film franchise?  \\\n",
       "0                                           Response                      \n",
       "1                                                Yes                      \n",
       "2                                                NaN                      \n",
       "3                                                 No                      \n",
       "4                                                Yes                      \n",
       "\n",
       "  Which of the following Star Wars films have you seen? Please select all that apply.  \\\n",
       "0           Star Wars: Episode I  The Phantom Menace                                    \n",
       "1           Star Wars: Episode I  The Phantom Menace                                    \n",
       "2                                                NaN                                    \n",
       "3           Star Wars: Episode I  The Phantom Menace                                    \n",
       "4           Star Wars: Episode I  The Phantom Menace                                    \n",
       "\n",
       "                                    Unnamed: 4  \\\n",
       "0  Star Wars: Episode II  Attack of the Clones   \n",
       "1  Star Wars: Episode II  Attack of the Clones   \n",
       "2                                          NaN   \n",
       "3  Star Wars: Episode II  Attack of the Clones   \n",
       "4  Star Wars: Episode II  Attack of the Clones   \n",
       "\n",
       "                                    Unnamed: 5  \\\n",
       "0  Star Wars: Episode III  Revenge of the Sith   \n",
       "1  Star Wars: Episode III  Revenge of the Sith   \n",
       "2                                          NaN   \n",
       "3  Star Wars: Episode III  Revenge of the Sith   \n",
       "4  Star Wars: Episode III  Revenge of the Sith   \n",
       "\n",
       "                          Unnamed: 6  \\\n",
       "0  Star Wars: Episode IV  A New Hope   \n",
       "1  Star Wars: Episode IV  A New Hope   \n",
       "2                                NaN   \n",
       "3                                NaN   \n",
       "4  Star Wars: Episode IV  A New Hope   \n",
       "\n",
       "                                     Unnamed: 7  \\\n",
       "0  Star Wars: Episode V The Empire Strikes Back   \n",
       "1  Star Wars: Episode V The Empire Strikes Back   \n",
       "2                                           NaN   \n",
       "3                                           NaN   \n",
       "4  Star Wars: Episode V The Empire Strikes Back   \n",
       "\n",
       "                                 Unnamed: 8  \\\n",
       "0  Star Wars: Episode VI Return of the Jedi   \n",
       "1  Star Wars: Episode VI Return of the Jedi   \n",
       "2                                       NaN   \n",
       "3                                       NaN   \n",
       "4  Star Wars: Episode VI Return of the Jedi   \n",
       "\n",
       "  Please rank the Star Wars films in order of preference with 1 being your favorite film in the franchise and 6 being your least favorite film.  \\\n",
       "0           Star Wars: Episode I  The Phantom Menace                                                                                              \n",
       "1                                                  3                                                                                              \n",
       "2                                                NaN                                                                                              \n",
       "3                                                  1                                                                                              \n",
       "4                                                  5                                                                                              \n",
       "\n",
       "            ...                  Unnamed: 28  \\\n",
       "0           ...                         Yoda   \n",
       "1           ...               Very favorably   \n",
       "2           ...                          NaN   \n",
       "3           ...             Unfamiliar (N/A)   \n",
       "4           ...               Very favorably   \n",
       "\n",
       "        Which character shot first?  \\\n",
       "0                          Response   \n",
       "1  I don't understand this question   \n",
       "2                               NaN   \n",
       "3  I don't understand this question   \n",
       "4  I don't understand this question   \n",
       "\n",
       "  Are you familiar with the Expanded Universe?  \\\n",
       "0                                     Response   \n",
       "1                                          Yes   \n",
       "2                                          NaN   \n",
       "3                                           No   \n",
       "4                                           No   \n",
       "\n",
       "  Do you consider yourself to be a fan of the Expanded Universe?ÂÃ¦  \\\n",
       "0                                           Response                   \n",
       "1                                                 No                   \n",
       "2                                                NaN                   \n",
       "3                                                NaN                   \n",
       "4                                                NaN                   \n",
       "\n",
       "  Do you consider yourself to be a fan of the Star Trek franchise?    Gender  \\\n",
       "0                                           Response                Response   \n",
       "1                                                 No                    Male   \n",
       "2                                                Yes                    Male   \n",
       "3                                                 No                    Male   \n",
       "4                                                Yes                    Male   \n",
       "\n",
       "        Age     Household Income                         Education  \\\n",
       "0  Response             Response                          Response   \n",
       "1     18-29                  NaN                High school degree   \n",
       "2     18-29         $0 - $24,999                   Bachelor degree   \n",
       "3     18-29         $0 - $24,999                High school degree   \n",
       "4     18-29  $100,000 - $149,999  Some college or Associate degree   \n",
       "\n",
       "  Location (Census Region)  \n",
       "0                 Response  \n",
       "1           South Atlantic  \n",
       "2       West South Central  \n",
       "3       West North Central  \n",
       "4       West North Central  \n",
       "\n",
       "[5 rows x 38 columns]"
      ]
     },
     "execution_count": 1,
     "metadata": {},
     "output_type": "execute_result"
    }
   ],
   "source": [
    "import pandas as pd\n",
    "import numpy as np\n",
    "\n",
    "# Reading into a Dataframe the Star Wars Dataset:\n",
    "star_wars = pd.read_csv('star_wars.csv', encoding='ISO-8859-1')\n",
    "star_wars.head()\n"
   ]
  },
  {
   "cell_type": "code",
   "execution_count": 2,
   "metadata": {
    "collapsed": false
   },
   "outputs": [
    {
     "data": {
      "text/plain": [
       "Index(['RespondentID',\n",
       "       'Have you seen any of the 6 films in the Star Wars franchise?',\n",
       "       'Do you consider yourself to be a fan of the Star Wars film franchise?',\n",
       "       'Which of the following Star Wars films have you seen? Please select all that apply.',\n",
       "       'Unnamed: 4', 'Unnamed: 5', 'Unnamed: 6', 'Unnamed: 7', 'Unnamed: 8',\n",
       "       'Please rank the Star Wars films in order of preference with 1 being your favorite film in the franchise and 6 being your least favorite film.',\n",
       "       'Unnamed: 10', 'Unnamed: 11', 'Unnamed: 12', 'Unnamed: 13',\n",
       "       'Unnamed: 14',\n",
       "       'Please state whether you view the following characters favorably, unfavorably, or are unfamiliar with him/her.',\n",
       "       'Unnamed: 16', 'Unnamed: 17', 'Unnamed: 18', 'Unnamed: 19',\n",
       "       'Unnamed: 20', 'Unnamed: 21', 'Unnamed: 22', 'Unnamed: 23',\n",
       "       'Unnamed: 24', 'Unnamed: 25', 'Unnamed: 26', 'Unnamed: 27',\n",
       "       'Unnamed: 28', 'Which character shot first?',\n",
       "       'Are you familiar with the Expanded Universe?',\n",
       "       'Do you consider yourself to be a fan of the Expanded Universe?ÂÃ¦',\n",
       "       'Do you consider yourself to be a fan of the Star Trek franchise?',\n",
       "       'Gender', 'Age', 'Household Income', 'Education',\n",
       "       'Location (Census Region)'],\n",
       "      dtype='object')"
      ]
     },
     "execution_count": 2,
     "metadata": {},
     "output_type": "execute_result"
    }
   ],
   "source": [
    "# Extracting and checking the Dataset columns:\n",
    "star_wars.columns"
   ]
  },
  {
   "cell_type": "code",
   "execution_count": 3,
   "metadata": {
    "collapsed": false
   },
   "outputs": [
    {
     "data": {
      "text/plain": [
       "False    1186\n",
       "Name: RespondentID, dtype: int64"
      ]
     },
     "execution_count": 3,
     "metadata": {},
     "output_type": "execute_result"
    }
   ],
   "source": [
    "# Removing all the NaN rows in the RespondentID col of our Dataset, using\n",
    "# the notna() method:\n",
    "star_wars = star_wars[star_wars['RespondentID'].notna()].copy()\n",
    "# Validating the operation:\n",
    "star_wars['RespondentID'].isnull().value_counts()"
   ]
  },
  {
   "cell_type": "code",
   "execution_count": 4,
   "metadata": {
    "collapsed": false
   },
   "outputs": [
    {
     "data": {
      "text/plain": [
       "True     936\n",
       "False    250\n",
       "Name: Have you seen any of the 6 films in the Star Wars franchise?, dtype: int64"
      ]
     },
     "execution_count": 4,
     "metadata": {},
     "output_type": "execute_result"
    }
   ],
   "source": [
    "# Converting the Yes's and No's in the 'Have you seen any of the 6 films \n",
    "# in the Star Wars franchise?' col, to True's and False's. Transforming that\n",
    "# way the entire col from a string type to a Boolean type:\n",
    "star_wars[\n",
    "    'Have you seen any of the 6 films in the Star Wars franchise?'\n",
    "        ] = star_wars[\n",
    "    'Have you seen any of the 6 films in the Star Wars franchise?'\n",
    "        ].map({'Yes': True, 'No': False}).copy()\n",
    "\n",
    "# Checking the results:\n",
    "star_wars['Have you seen any of the 6 films in the Star Wars franchise?'].value_counts(\n",
    "dropna=False)"
   ]
  },
  {
   "cell_type": "code",
   "execution_count": 36,
   "metadata": {
    "collapsed": false
   },
   "outputs": [
    {
     "ename": "SyntaxError",
     "evalue": "invalid syntax (<ipython-input-36-0474692d3fa5>, line 9)",
     "output_type": "error",
     "traceback": [
      "\u001b[1;36m  File \u001b[1;32m\"<ipython-input-36-0474692d3fa5>\"\u001b[1;36m, line \u001b[1;32m9\u001b[0m\n\u001b[1;33m    ].str.replace(['Yes', 'No'], [np.True, np.False])\u001b[0m\n\u001b[1;37m                                        ^\u001b[0m\n\u001b[1;31mSyntaxError\u001b[0m\u001b[1;31m:\u001b[0m invalid syntax\n"
     ]
    }
   ],
   "source": [
    "# Converting the Yes's and No's in the 'Do you consider yourself to be a \n",
    "# fan of the Star Wars film franchise?' col, to True's and False's. \n",
    "# Transforming that way the entire col from a string type to a Boolean type:\n",
    "\n",
    "star_wars[\n",
    "    'Do you consider yourself to be a fan of the Star Wars film franchise?'\n",
    "        ] = star_wars[\n",
    "    'Do you consider yourself to be a fan of the Star Wars film franchise?'\n",
    "        ].map({'Yes': True, 'No': False})\n",
    "# Veifying the changes:\n",
    "star_wars[\n",
    "    'Do you consider yourself to be a fan of the Star Wars film franchise?'\n",
    "].value_counts(dropna=False)"
   ]
  },
  {
   "cell_type": "code",
   "execution_count": 6,
   "metadata": {
    "collapsed": false
   },
   "outputs": [
    {
     "name": "stdout",
     "output_type": "stream",
     "text": [
      "True\n",
      "True     673\n",
      "False    513\n",
      "Name: seen_Ep.1, dtype: int64\n",
      "True\n",
      "False    615\n",
      "True     571\n",
      "Name: seen_Ep.2, dtype: int64\n",
      "True\n",
      "False    636\n",
      "True     550\n",
      "Name: seen_Ep.3, dtype: int64\n",
      "True\n",
      "True     607\n",
      "False    579\n",
      "Name: seen_Ep.4, dtype: int64\n",
      "True\n",
      "True     758\n",
      "False    428\n",
      "Name: seen_Ep.5, dtype: int64\n",
      "True\n",
      "True     738\n",
      "False    448\n",
      "Name: seen_Ep.6, dtype: int64\n"
     ]
    }
   ],
   "source": [
    "# Renaming all the cols that correspond to the movies seen by the Star Wars\n",
    "# fans from Unnamed to seen, adding to it a numeric value that corresponds\n",
    "# to each of the 6 Episodes from the saga. E.g., seen_Ep.1 == seen Episode I,\n",
    "# seen_Ep.4 == seen Episode IV, seen_Ep.6 == seen Episode VI, etc:\n",
    "star_wars = star_wars.rename(columns={\n",
    "                'Which of the following Star Wars films have you seen? Please select all that apply.': 'seen_Ep.1',\n",
    "                'Unnamed: 4': 'seen_Ep.2',\n",
    "                'Unnamed: 5': 'seen_Ep.3',\n",
    "                'Unnamed: 6': 'seen_Ep.4',\n",
    "                'Unnamed: 7': 'seen_Ep.5',\n",
    "                'Unnamed: 8': 'seen_Ep.6'\n",
    "                                    }).copy()\n",
    "# Changing the content of the cols. Passing from a str to a boolean type.\n",
    "# First we will creat a list of all the names of the movies that populate\n",
    "# our seen cols. Than, resorting to a for loop, we will change the format \n",
    "# of that very same columns. Attributing the ones with the name of the movie\n",
    "# a True boolean and assuming that the ones that have null values correspond\n",
    "# to False answers related to whether or not the fans have seen that \n",
    "# particular movie: \n",
    "movies = [\n",
    "    'Star Wars: Episode I  The Phantom Menace', \n",
    "    'Star Wars: Episode II  Attack of the Clones',\n",
    "    'Star Wars: Episode III  Revenge of the Sith',\n",
    "    'Star Wars: Episode IV  A New Hope',\n",
    "    'Star Wars: Episode V The Empire Strikes Back',\n",
    "    'Star Wars: Episode VI Return of the Jedi'    \n",
    "]\n",
    "for n in np.arange(6):\n",
    "    col = 'seen_Ep.{}'.format(n+1)\n",
    "    star_wars[col] = star_wars[col].map({\n",
    "    movies[n]: True, np.NaN: False})\n",
    "    \n",
    "# Checking and validating the previous changes in the Dataset:\n",
    "for n in np.arange(6):\n",
    "    col = 'seen_Ep.{}'.format(n+1)\n",
    "    print(star_wars[col].value_counts().sum() == star_wars.shape[0])\n",
    "    print(star_wars[col].value_counts())\n"
   ]
  },
  {
   "cell_type": "code",
   "execution_count": 7,
   "metadata": {
    "collapsed": false
   },
   "outputs": [
    {
     "name": "stdout",
     "output_type": "stream",
     "text": [
      "Please rank the Star Wars films in order of preference with 1 being your favorite film in the franchise and 6 being your least favorite film.    float64\n",
      "Unnamed: 10                                                                                                                                      float64\n",
      "Unnamed: 11                                                                                                                                      float64\n",
      "Unnamed: 12                                                                                                                                      float64\n",
      "Unnamed: 13                                                                                                                                      float64\n",
      "Unnamed: 14                                                                                                                                      float64\n",
      "dtype: object\n"
     ]
    }
   ],
   "source": [
    "# Converting the Star Wars movies rating on preference cols from str-float:\n",
    "star_wars[star_wars.columns[3:15]] = star_wars[\n",
    "                            star_wars.columns[3:15]].astype(float).copy()\n",
    "# Checking the outcome of the operation:\n",
    "print(star_wars[star_wars.columns[9:15]].dtypes)"
   ]
  },
  {
   "cell_type": "code",
   "execution_count": 8,
   "metadata": {
    "collapsed": false
   },
   "outputs": [
    {
     "name": "stdout",
     "output_type": "stream",
     "text": [
      "Index(['ranking_Ep.1', 'ranking_Ep.2', 'ranking_Ep.3', 'ranking_Ep.4',\n",
      "       'ranking_Ep.5', 'ranking_Ep.6'],\n",
      "      dtype='object')\n"
     ]
    }
   ],
   "source": [
    "# Renaming those very same cols to a more descriptive name,\n",
    "# resorting to the rename() method from pandas:\n",
    "star_wars = star_wars.rename(columns={\n",
    "    'Please rank the Star Wars films in order of preference with 1 being your favorite film in the franchise and 6 being your least favorite film.': 'ranking_Ep.1',\n",
    "    'Unnamed: 10': 'ranking_Ep.2',\n",
    "    'Unnamed: 11': 'ranking_Ep.3',\n",
    "    'Unnamed: 12': 'ranking_Ep.4',\n",
    "    'Unnamed: 13': 'ranking_Ep.5',\n",
    "    'Unnamed: 14': 'ranking_Ep.6'}).copy()\n",
    "\n",
    "# Verifying the changes:\n",
    "print(star_wars.columns[9:15])"
   ]
  },
  {
   "cell_type": "markdown",
   "metadata": {},
   "source": [
    "## Analyzing the Dataset Episode 1"
   ]
  },
  {
   "cell_type": "code",
   "execution_count": 9,
   "metadata": {
    "collapsed": false
   },
   "outputs": [
    {
     "data": {
      "image/png": "[encoded data removed]",
      "text/plain": [
       "<matplotlib.figure.Figure at 0x7f351c565d30>"
      ]
     },
     "metadata": {},
     "output_type": "display_data"
    }
   ],
   "source": [
    "import matplotlib.pyplot as plt\n",
    "%matplotlib inline\n",
    "\n",
    "# Calculating the mean of all the 5 ranking cols.\n",
    "# The values range from 1-6. Being 1 the most favorite and \n",
    "# 6 the least favorite movie. So the ones that have a higher \n",
    "# ranking value are the least favorite movies from the\n",
    "# Star Wars saga, and vice-versa:\n",
    "ranking_means = star_wars[\n",
    "    star_wars.columns[9:15]].mean().sort_values(\n",
    "ascending=False)\n",
    "\n",
    "ranking_means.head()\n",
    "\n",
    "# Plotting those means in a bar graph:\n",
    "rank_graph = ranking_means.plot.barh(\n",
    "    edgecolor='none',\n",
    "color= [(255/255,188/255,121/255),\n",
    "       (162/255,200/255, 236/255),\n",
    "       (207/255,207/255,207/255),\n",
    "       (200/255,82/255,0/255),\n",
    "       (255/255,194/255,10/255),\n",
    "       (212/255,17/255,89/255)])\n",
    "\n",
    "# ENHANCING PLOT AESTHETICS: \n",
    "\n",
    "# Removing all the 4 spines with a for loop from our graph figure:\n",
    "for key, spine in rank_graph.spines.items():\n",
    "    spine.set_visible(False)\n",
    "# Removing the ticks:    \n",
    "rank_graph.tick_params(\n",
    "    bottom='off', top='off', left='off', right='off')\n",
    "# Setting a graph title:\n",
    "rank_graph.set_title('Average Star Wars Movies Ranking')\n",
    "# Setting an average graph line:\n",
    "rank_graph.axvline(ranking_means.mean(), \n",
    "                   alpha=.8, linestyle='--', color='grey')\n",
    "# Displaying the graph:\n",
    "plt.show()"
   ]
  },
  {
   "cell_type": "code",
   "execution_count": 10,
   "metadata": {
    "collapsed": false
   },
   "outputs": [
    {
     "data": {
      "text/plain": [
       "18-29    218\n",
       "30-44    268\n",
       "> 60     269\n",
       "45-60    291\n",
       "Name: Age, dtype: int64"
      ]
     },
     "execution_count": 10,
     "metadata": {},
     "output_type": "execute_result"
    }
   ],
   "source": [
    "# Analysing the Age column from our Dataset:\n",
    "star_wars['Age'].value_counts().sort_values()"
   ]
  },
  {
   "cell_type": "markdown",
   "metadata": {},
   "source": [
    "### Findings:\n",
    "\n",
    "#### - Interestingly enough the 3 movies from the saga that enter the top 3 rank for the Star Wars fans are the very first 3 ones to be realeased: Star Wars Episode V - The Empire Srikes Back; Star Wars Episode VI - Return of the Jedi; Star Wars Episode IV, in order of choice.\n",
    "#### - Another funny fact is that these very same 3 Episodes rank, in the Internet Movie Database website (IMDb), much higher than the other 3 ones, the 'new' movies from the saga: 8,7;  8,3 and 8,6 out of 10. Against 6,5; 6,5 and 7,5, for the Episodes I; II and III, respectively. \n",
    "#### - We can conclude that the choices from the fans on this survey are vey much aligned with the ranking of the Star Wars saga in biggest movies database over the Internet.\n",
    "#### - Last but not least, when we dig a little bit deeper, we find that the age range from the biggest portion of the respondents of the survey is from around 30's onwards. This might explain the lean to the oldest movies from the Star Wars saga. Being these movies the ones from their teen age or young adult age, the ones that most influence and impact caused on them and their future lifes. "
   ]
  },
  {
   "cell_type": "code",
   "execution_count": 11,
   "metadata": {
    "collapsed": false
   },
   "outputs": [
    {
     "data": {
      "image/png": "[encoded data removed]",
      "text/plain": [
       "<matplotlib.figure.Figure at 0x7f351c6e0940>"
      ]
     },
     "metadata": {},
     "output_type": "display_data"
    }
   ],
   "source": [
    "# Indexing, calculating and sorting the data that corresponds to the six\n",
    "# different movies seen by the fans:\n",
    "star_wars_seen_total = star_wars[star_wars.columns[3:9]].sum().copy().sort_values(\n",
    "ascending=False)\n",
    "\n",
    "# Plotting a bar graph of the total of movies seen per Episode of the Star\n",
    "# Wars saga:\n",
    "star_wars_seen_total_graph = star_wars_seen_total.plot.bar(\n",
    "    edgecolor='none',\n",
    "    color=[(12/255,123/255,220/255),\n",
    "           (93/255,58/255,155/255),\n",
    "           (254/255,254/255,98/255),\n",
    "           (211/255,95/255,183/255),\n",
    "           (212/255,17/255,89/255),\n",
    "           (64/255,176/255,166/255)])\n",
    "# Setting an average graph line:\n",
    "star_wars_seen_total_graph.axhline(\n",
    "    star_wars_seen_total.mean(),\n",
    "color='grey', alpha=.8, linestyle=':')\n",
    "\n",
    "\n",
    "# ENHANCING PLOT AESTHETICS: \n",
    "\n",
    "# Removing the ticks:\n",
    "star_wars_seen_total_graph.tick_params(\n",
    "bottom='off', top='off', left='off', right='off')\n",
    "# Removing all the 4 spines with a for loop from our graph figure:\n",
    "for key, spine in star_wars_seen_total_graph.spines.items():\n",
    "    spine.set_visible(False)\n",
    "    \n",
    "# Setting a graph title:    \n",
    "star_wars_seen_total_graph.set_title('Most seen Episode movie')\n",
    "# Rotating the xtick labels:\n",
    "plt.xticks(rotation='horizontal')\n",
    "# Displaying the graph:  \n",
    "plt.show()\n"
   ]
  },
  {
   "cell_type": "markdown",
   "metadata": {},
   "source": [
    "### Findings:\n",
    "\n",
    "#### - The result is in line with the previous conclusions. Two out of the three most voted movies from the Star Wars fans, are also the most seen ones: Episode V and Episode VI with more than 700 respondents having seen them. In between these 2 and the other most favorite movie from the saga, the Episode IV, stands Episode I with views that puts it above the average, roughly around 680. \n",
    "#### - The explanations for this meddling might be two: marketing and time. On one hand, beeing the movie Star Wars Episode IV the very first one to be realeased the expectations from 20th Century Fox weren't that high, so they didn't back the movie enough prior to their release. Not betting that much in marketing and even in theatrical run, being it initialy only released to a limited number. The success of the movie was far more due to it's screenplay/innovative special effects/actors/producer quality - its core content, than to the support of its Studio. The other explanations that placed the Episode I -  The Phantom Menace as the third most seen movie from all the saga were time, and marketing. Marketing that, for example the first movie didn't have, this had in double or more. Now being highly backed both from Lucas Arts and 20th Century Fox. 20th Century Fox knew now the kind of cash cow this was. And the time it took them to release this movie from their last one, Star Wars Episode VI - Return of the Jedi, more than 15 years, led all the fans to such an impatious level, that only grew more and more as years were passing. Creating the perfect momentum for the launch of the movie, and therefore a massive influx to the theaters. "
   ]
  },
  {
   "cell_type": "markdown",
   "metadata": {},
   "source": [
    "### Analyzing the Dataset in a Gender perspective "
   ]
  },
  {
   "cell_type": "code",
   "execution_count": 12,
   "metadata": {
    "collapsed": false
   },
   "outputs": [
    {
     "data": {
      "text/html": [
       "<div>\n",
       "<style scoped>\n",
       "    .dataframe tbody tr th:only-of-type {\n",
       "        vertical-align: middle;\n",
       "    }\n",
       "\n",
       "    .dataframe tbody tr th {\n",
       "        vertical-align: top;\n",
       "    }\n",
       "\n",
       "    .dataframe thead th {\n",
       "        text-align: right;\n",
       "    }\n",
       "</style>\n",
       "<table border=\"1\" class=\"dataframe\">\n",
       "  <thead>\n",
       "    <tr style=\"text-align: right;\">\n",
       "      <th></th>\n",
       "      <th>RespondentID</th>\n",
       "      <th>Have you seen any of the 6 films in the Star Wars franchise?</th>\n",
       "      <th>Do you consider yourself to be a fan of the Star Wars film franchise?</th>\n",
       "      <th>seen_Ep.1</th>\n",
       "      <th>seen_Ep.2</th>\n",
       "      <th>seen_Ep.3</th>\n",
       "      <th>seen_Ep.4</th>\n",
       "      <th>seen_Ep.5</th>\n",
       "      <th>seen_Ep.6</th>\n",
       "      <th>ranking_Ep.1</th>\n",
       "      <th>...</th>\n",
       "      <th>Unnamed: 28</th>\n",
       "      <th>Which character shot first?</th>\n",
       "      <th>Are you familiar with the Expanded Universe?</th>\n",
       "      <th>Do you consider yourself to be a fan of the Expanded Universe?ÂÃ¦</th>\n",
       "      <th>Do you consider yourself to be a fan of the Star Trek franchise?</th>\n",
       "      <th>Gender</th>\n",
       "      <th>Age</th>\n",
       "      <th>Household Income</th>\n",
       "      <th>Education</th>\n",
       "      <th>Location (Census Region)</th>\n",
       "    </tr>\n",
       "  </thead>\n",
       "  <tbody>\n",
       "    <tr>\n",
       "      <th>112</th>\n",
       "      <td>3.291440e+09</td>\n",
       "      <td>True</td>\n",
       "      <td>True</td>\n",
       "      <td>1.0</td>\n",
       "      <td>1.0</td>\n",
       "      <td>0.0</td>\n",
       "      <td>0.0</td>\n",
       "      <td>1.0</td>\n",
       "      <td>1.0</td>\n",
       "      <td>1.0</td>\n",
       "      <td>...</td>\n",
       "      <td>Somewhat favorably</td>\n",
       "      <td>Greedo</td>\n",
       "      <td>Yes</td>\n",
       "      <td>No</td>\n",
       "      <td>Yes</td>\n",
       "      <td>Female</td>\n",
       "      <td>&gt; 60</td>\n",
       "      <td>$50,000 - $99,999</td>\n",
       "      <td>Bachelor degree</td>\n",
       "      <td>South Atlantic</td>\n",
       "    </tr>\n",
       "    <tr>\n",
       "      <th>113</th>\n",
       "      <td>3.291439e+09</td>\n",
       "      <td>True</td>\n",
       "      <td>False</td>\n",
       "      <td>1.0</td>\n",
       "      <td>0.0</td>\n",
       "      <td>0.0</td>\n",
       "      <td>0.0</td>\n",
       "      <td>0.0</td>\n",
       "      <td>0.0</td>\n",
       "      <td>1.0</td>\n",
       "      <td>...</td>\n",
       "      <td>Somewhat favorably</td>\n",
       "      <td>I don't understand this question</td>\n",
       "      <td>No</td>\n",
       "      <td>NaN</td>\n",
       "      <td>No</td>\n",
       "      <td>Female</td>\n",
       "      <td>&gt; 60</td>\n",
       "      <td>$25,000 - $49,999</td>\n",
       "      <td>Graduate degree</td>\n",
       "      <td>Pacific</td>\n",
       "    </tr>\n",
       "    <tr>\n",
       "      <th>115</th>\n",
       "      <td>3.291436e+09</td>\n",
       "      <td>True</td>\n",
       "      <td>False</td>\n",
       "      <td>1.0</td>\n",
       "      <td>0.0</td>\n",
       "      <td>0.0</td>\n",
       "      <td>0.0</td>\n",
       "      <td>1.0</td>\n",
       "      <td>1.0</td>\n",
       "      <td>3.0</td>\n",
       "      <td>...</td>\n",
       "      <td>Somewhat favorably</td>\n",
       "      <td>I don't understand this question</td>\n",
       "      <td>No</td>\n",
       "      <td>NaN</td>\n",
       "      <td>No</td>\n",
       "      <td>Female</td>\n",
       "      <td>30-44</td>\n",
       "      <td>$50,000 - $99,999</td>\n",
       "      <td>Graduate degree</td>\n",
       "      <td>South Atlantic</td>\n",
       "    </tr>\n",
       "    <tr>\n",
       "      <th>117</th>\n",
       "      <td>3.291434e+09</td>\n",
       "      <td>True</td>\n",
       "      <td>False</td>\n",
       "      <td>1.0</td>\n",
       "      <td>1.0</td>\n",
       "      <td>1.0</td>\n",
       "      <td>0.0</td>\n",
       "      <td>1.0</td>\n",
       "      <td>1.0</td>\n",
       "      <td>3.0</td>\n",
       "      <td>...</td>\n",
       "      <td>Somewhat unfavorably</td>\n",
       "      <td>I don't understand this question</td>\n",
       "      <td>No</td>\n",
       "      <td>NaN</td>\n",
       "      <td>No</td>\n",
       "      <td>Female</td>\n",
       "      <td>30-44</td>\n",
       "      <td>$25,000 - $49,999</td>\n",
       "      <td>Bachelor degree</td>\n",
       "      <td>West South Central</td>\n",
       "    </tr>\n",
       "    <tr>\n",
       "      <th>118</th>\n",
       "      <td>3.291432e+09</td>\n",
       "      <td>True</td>\n",
       "      <td>True</td>\n",
       "      <td>1.0</td>\n",
       "      <td>1.0</td>\n",
       "      <td>1.0</td>\n",
       "      <td>1.0</td>\n",
       "      <td>1.0</td>\n",
       "      <td>1.0</td>\n",
       "      <td>3.0</td>\n",
       "      <td>...</td>\n",
       "      <td>Very favorably</td>\n",
       "      <td>Han</td>\n",
       "      <td>No</td>\n",
       "      <td>NaN</td>\n",
       "      <td>Yes</td>\n",
       "      <td>Female</td>\n",
       "      <td>30-44</td>\n",
       "      <td>$25,000 - $49,999</td>\n",
       "      <td>Graduate degree</td>\n",
       "      <td>South Atlantic</td>\n",
       "    </tr>\n",
       "  </tbody>\n",
       "</table>\n",
       "<p>5 rows × 38 columns</p>\n",
       "</div>"
      ],
      "text/plain": [
       "     RespondentID  \\\n",
       "112  3.291440e+09   \n",
       "113  3.291439e+09   \n",
       "115  3.291436e+09   \n",
       "117  3.291434e+09   \n",
       "118  3.291432e+09   \n",
       "\n",
       "     Have you seen any of the 6 films in the Star Wars franchise?  \\\n",
       "112                                               True              \n",
       "113                                               True              \n",
       "115                                               True              \n",
       "117                                               True              \n",
       "118                                               True              \n",
       "\n",
       "    Do you consider yourself to be a fan of the Star Wars film franchise?  \\\n",
       "112                                               True                      \n",
       "113                                              False                      \n",
       "115                                              False                      \n",
       "117                                              False                      \n",
       "118                                               True                      \n",
       "\n",
       "     seen_Ep.1  seen_Ep.2  seen_Ep.3  seen_Ep.4  seen_Ep.5  seen_Ep.6  \\\n",
       "112        1.0        1.0        0.0        0.0        1.0        1.0   \n",
       "113        1.0        0.0        0.0        0.0        0.0        0.0   \n",
       "115        1.0        0.0        0.0        0.0        1.0        1.0   \n",
       "117        1.0        1.0        1.0        0.0        1.0        1.0   \n",
       "118        1.0        1.0        1.0        1.0        1.0        1.0   \n",
       "\n",
       "     ranking_Ep.1           ...                      Unnamed: 28  \\\n",
       "112           1.0           ...               Somewhat favorably   \n",
       "113           1.0           ...               Somewhat favorably   \n",
       "115           3.0           ...               Somewhat favorably   \n",
       "117           3.0           ...             Somewhat unfavorably   \n",
       "118           3.0           ...                   Very favorably   \n",
       "\n",
       "          Which character shot first?  \\\n",
       "112                            Greedo   \n",
       "113  I don't understand this question   \n",
       "115  I don't understand this question   \n",
       "117  I don't understand this question   \n",
       "118                               Han   \n",
       "\n",
       "     Are you familiar with the Expanded Universe?  \\\n",
       "112                                           Yes   \n",
       "113                                            No   \n",
       "115                                            No   \n",
       "117                                            No   \n",
       "118                                            No   \n",
       "\n",
       "     Do you consider yourself to be a fan of the Expanded Universe?ÂÃ¦  \\\n",
       "112                                                 No                    \n",
       "113                                                NaN                    \n",
       "115                                                NaN                    \n",
       "117                                                NaN                    \n",
       "118                                                NaN                    \n",
       "\n",
       "     Do you consider yourself to be a fan of the Star Trek franchise?  Gender  \\\n",
       "112                                                Yes                 Female   \n",
       "113                                                 No                 Female   \n",
       "115                                                 No                 Female   \n",
       "117                                                 No                 Female   \n",
       "118                                                Yes                 Female   \n",
       "\n",
       "       Age   Household Income        Education Location (Census Region)  \n",
       "112   > 60  $50,000 - $99,999  Bachelor degree           South Atlantic  \n",
       "113   > 60  $25,000 - $49,999  Graduate degree                  Pacific  \n",
       "115  30-44  $50,000 - $99,999  Graduate degree           South Atlantic  \n",
       "117  30-44  $25,000 - $49,999  Bachelor degree       West South Central  \n",
       "118  30-44  $25,000 - $49,999  Graduate degree           South Atlantic  \n",
       "\n",
       "[5 rows x 38 columns]"
      ]
     },
     "execution_count": 12,
     "metadata": {},
     "output_type": "execute_result"
    }
   ],
   "source": [
    "# Dividing our Dataset into two new ones. One for Female respondents and \n",
    "# another one for Male ones:\n",
    "\n",
    "female = star_wars[star_wars['Gender'] == 'Female'].copy()\n",
    "male = star_wars[star_wars['Gender'] == 'Male'].copy()\n",
    "# Displaying the first 5 rows of the female Dataset:\n",
    "female.head()"
   ]
  },
  {
   "cell_type": "code",
   "execution_count": 13,
   "metadata": {
    "collapsed": false
   },
   "outputs": [
    {
     "data": {
      "image/png": "[encoded data removed]",
      "text/plain": [
       "<matplotlib.figure.Figure at 0x7f351c62a198>"
      ]
     },
     "metadata": {},
     "output_type": "display_data"
    }
   ],
   "source": [
    "# Redoing the same two previous analyses, and plotting two graph bars for\n",
    "# the most ranked Star Wars movies and the most seen ones from all the saga.\n",
    "# Ladies first.\n",
    "\n",
    "# Indexing, calculating and sorting the data that corresponds to the \n",
    "# Female gender:\n",
    "ranking_means_female = female[\n",
    "    female.columns[9:15]].mean().sort_values(\n",
    "ascending=False)\n",
    "\n",
    "ranking_means_female.head()\n",
    "\n",
    "# Plotting those means in a bar graph:\n",
    "rank_graph_female = ranking_means_female.plot.barh(\n",
    "    edgecolor='none',\n",
    "    color= [(255/255,188/255,121/255),\n",
    "           (162/255,200/255, 236/255),\n",
    "           (207/255,207/255,207/255),\n",
    "           (200/255,82/255,0/255),\n",
    "           (255/255,194/255,10/255),\n",
    "           (212/255,17/255,89/255)])\n",
    "\n",
    "# ENHANCING PLOT AESTHETICS:\n",
    "\n",
    "# Removing all the 4 spines with a for loop from our graph figure:\n",
    "for key, spine in rank_graph_female.spines.items():\n",
    "    spine.set_visible(False)\n",
    "# Removing the ticks:    \n",
    "rank_graph_female.tick_params(\n",
    "    bottom='off', top='off', left='off', right='off')\n",
    "# Setting a graph title:\n",
    "rank_graph_female.set_title('Average Star Wars Movies Ranking (Female_Respondents)')\n",
    "# Setting an average graph line:\n",
    "rank_graph_female.axvline(ranking_means_female.mean(), \n",
    "                   alpha=.8, linestyle='--', color='grey')\n",
    "# Displaying the graph:\n",
    "plt.show()"
   ]
  },
  {
   "cell_type": "code",
   "execution_count": 14,
   "metadata": {
    "collapsed": false
   },
   "outputs": [
    {
     "data": {
      "image/png": "[encoded data removed]",
      "text/plain": [
       "<matplotlib.figure.Figure at 0x7f351c62f518>"
      ]
     },
     "metadata": {},
     "output_type": "display_data"
    }
   ],
   "source": [
    "# Doing the same process as previous only this time for the male Gender.\n",
    "\n",
    "# Indexing, calculating and sorting the data that corresponds to the \n",
    "# Male Gender:\n",
    "ranking_means_male = male[\n",
    "    male.columns[9:15]].mean().sort_values(\n",
    "ascending=False)\n",
    "\n",
    "ranking_means_male.head()\n",
    "\n",
    "# Plotting those means in a bar graph:\n",
    "rank_graph_male = ranking_means_male.plot.barh(\n",
    "    edgecolor='none',\n",
    "    color= [(255/255,188/255,121/255),\n",
    "            (162/255,200/255, 236/255),\n",
    "            (207/255,207/255,207/255),\n",
    "            (200/255,82/255,0/255),\n",
    "            (255/255,193/255,7/255),\n",
    "            (216/255,27/255,96/255)])\n",
    "\n",
    "# ENHANCING PLOT AESTHETICS:\n",
    "\n",
    "# Removing all the 4 spines with a for loop from our graph figure:\n",
    "for key, spine in rank_graph_male.spines.items():\n",
    "    spine.set_visible(False)\n",
    "# Removing the ticks:    \n",
    "rank_graph_male.tick_params(\n",
    "    bottom='off', top='off', left='off', right='off')\n",
    "# Setting a graph title:\n",
    "rank_graph_male.set_title('Average Star Wars Movies Ranking (Male_Respondents)')\n",
    "# Setting an average graph line:\n",
    "rank_graph_male.axvline(ranking_means_male.mean(), \n",
    "                   alpha=.8, linestyle='--', color='grey')\n",
    "# Displaying the graph:\n",
    "plt.show()"
   ]
  },
  {
   "cell_type": "code",
   "execution_count": 15,
   "metadata": {
    "collapsed": false
   },
   "outputs": [
    {
     "data": {
      "image/png": "[encoded data removed]",
      "text/plain": [
       "<matplotlib.figure.Figure at 0x7f351a4e5f98>"
      ]
     },
     "metadata": {},
     "output_type": "display_data"
    }
   ],
   "source": [
    "# Now lets deal with the number of views per movie, for all the six Episodes\n",
    "# of the Star Wars saga that the Female Gender as seen.\n",
    "# As usual, ladies first.\n",
    "\n",
    "# Indexing, calculating and sorting the data that corresponds to the \n",
    "# Female Gender:\n",
    "female_seen_total = female[female.columns[3:9]].sum().copy().sort_values(\n",
    "ascending=False)\n",
    "# Plotting a bar graph of the Female_seen_total Dataset: \n",
    "female_seen_total_graph = female_seen_total.plot.bar(\n",
    "    edgecolor='none',\n",
    "    color=[(12/255,123/255,220/255),\n",
    "           (93/255,58/255,155/255),\n",
    "           (254/255,254/255,98/255),\n",
    "           (211/255,95/255,183/255),\n",
    "           (212/255,17/255,89/255),\n",
    "           (64/255,176/255,166/255)])\n",
    "\n",
    "# ENHANCING PLOT AESTHETICS: \n",
    "\n",
    "# Setting an average graph line:\n",
    "female_seen_total_graph.axhline(\n",
    "    female_seen_total.mean(),\n",
    "color='grey', alpha=.8, linestyle=':')\n",
    "# Turning off all the ticks:\n",
    "female_seen_total_graph.tick_params(\n",
    "bottom='off', top='off', left='off', right='off')\n",
    "# Cleaning out all the spines from our graph figure:\n",
    "for key, spine in female_seen_total_graph.spines.items():\n",
    "    spine.set_visible(False)    \n",
    "# Setting a graph title:    \n",
    "female_seen_total_graph.set_title('Star Wars most seen Episodes (Female_Respondents)')\n",
    "# Rotating the xtick labels:\n",
    "plt.xticks(rotation='horizontal')\n",
    "# Displaying the graph:    \n",
    "plt.show()"
   ]
  },
  {
   "cell_type": "code",
   "execution_count": 16,
   "metadata": {
    "collapsed": false
   },
   "outputs": [
    {
     "data": {
      "image/png": "[encoded data removed]",
      "text/plain": [
       "<matplotlib.figure.Figure at 0x7f351a3de0b8>"
      ]
     },
     "metadata": {},
     "output_type": "display_data"
    }
   ],
   "source": [
    "# Doing the same process as previous only this time for the male Gender.\n",
    "\n",
    "# Indexing, calculating and sorting the data that corresponds to the \n",
    "# Male Gender:\n",
    "male_seen_total = male[male.columns[3:9]].sum().copy().sort_values(\n",
    "ascending=False)\n",
    "# Plotting a bar graph of the male_seen_total Dataset:\n",
    "male_seen_total_graph = male_seen_total.plot.bar(\n",
    "    edgecolor='none',\n",
    "    color=[(12/255,123/255,220/255),\n",
    "           (93/255,58/255,155/255),\n",
    "           (254/255,254/255,98/255),\n",
    "           (211/255,95/255,183/255),\n",
    "           (212/255,17/255,89/255),\n",
    "           (64/255,176/255,166/255)])\n",
    "\n",
    "# ENHANCING PLOT AESTHETICS:\n",
    "\n",
    "# Setting an average graph line:\n",
    "male_seen_total_graph.axhline(\n",
    "    male_seen_total.mean(),\n",
    "color='grey', alpha=.8, linestyle=':')\n",
    "# Turning off all the ticks:\n",
    "male_seen_total_graph.tick_params(\n",
    "bottom='off', top='off', left='off', right='off')\n",
    "# Cleaning out all the spines from our graph figure:\n",
    "for key, spine in male_seen_total_graph.spines.items():\n",
    "    spine.set_visible(False)\n",
    "# Setting a graph title:    \n",
    "male_seen_total_graph.set_title('Star Wars most seen Episodes (Male_Respondents)')\n",
    "# Rotating the xtick labels:\n",
    "plt.xticks(rotation='horizontal')\n",
    "# Displaying the graph:    \n",
    "plt.show()"
   ]
  },
  {
   "cell_type": "markdown",
   "metadata": {},
   "source": [
    "### Findings:\n",
    "\n",
    "#### - Interesting discoveries. If on the Total number of Movies seen both genders present similar results over all the six movies from the saga, the same can't be said on the way the two genders ranked the movies.\n",
    "#### - The ranking gap between the 'old' three movies and the 'new' ones is much more pronounced in the Male respondents rather than in the Female ones. The Female fans even ranked the the Star Wars Episode I -  The Phantom Menace at number 3, relegating to fourth the Episode IV. For the Male fans this Episode was their second choice for best Star Wars movie from all the six.\n",
    "#### - Does this means that men are more into sci-fi movies per own initative rather than women that need a 'push' from all the marketing machine, or does it means that women were awakening late to the uniqueness of the Star Wars saga? "
   ]
  },
  {
   "cell_type": "markdown",
   "metadata": {},
   "source": [
    "### Analyzing the Dataset and the respondents ranking answers related to their degree of Education"
   ]
  },
  {
   "cell_type": "code",
   "execution_count": 17,
   "metadata": {
    "collapsed": false
   },
   "outputs": [
    {
     "data": {
      "text/plain": [
       "Some college or Associate degree    328\n",
       "Bachelor degree                     321\n",
       "Graduate degree                     275\n",
       "NaN                                 150\n",
       "High school degree                  105\n",
       "Less than high school degree          7\n",
       "Name: Education, dtype: int64"
      ]
     },
     "execution_count": 17,
     "metadata": {},
     "output_type": "execute_result"
    }
   ],
   "source": [
    "# Figuring out how many Education levels there are in the Dataset:\n",
    "star_wars['Education'].value_counts(dropna=False)\n"
   ]
  },
  {
   "cell_type": "code",
   "execution_count": 18,
   "metadata": {
    "collapsed": false
   },
   "outputs": [
    {
     "data": {
      "text/html": [
       "<div>\n",
       "<style scoped>\n",
       "    .dataframe tbody tr th:only-of-type {\n",
       "        vertical-align: middle;\n",
       "    }\n",
       "\n",
       "    .dataframe tbody tr th {\n",
       "        vertical-align: top;\n",
       "    }\n",
       "\n",
       "    .dataframe thead th {\n",
       "        text-align: right;\n",
       "    }\n",
       "</style>\n",
       "<table border=\"1\" class=\"dataframe\">\n",
       "  <thead>\n",
       "    <tr style=\"text-align: right;\">\n",
       "      <th></th>\n",
       "      <th>Education</th>\n",
       "      <th>ranking_Ep.1</th>\n",
       "      <th>ranking_Ep.2</th>\n",
       "      <th>ranking_Ep.3</th>\n",
       "      <th>ranking_Ep.4</th>\n",
       "      <th>ranking_Ep.5</th>\n",
       "      <th>ranking_Ep.6</th>\n",
       "    </tr>\n",
       "  </thead>\n",
       "  <tbody>\n",
       "    <tr>\n",
       "      <th>0</th>\n",
       "      <td>Bachelor degree</td>\n",
       "      <td>3.828244</td>\n",
       "      <td>4.290076</td>\n",
       "      <td>4.521073</td>\n",
       "      <td>3.114504</td>\n",
       "      <td>2.309160</td>\n",
       "      <td>2.931298</td>\n",
       "    </tr>\n",
       "    <tr>\n",
       "      <th>1</th>\n",
       "      <td>Graduate degree</td>\n",
       "      <td>3.822222</td>\n",
       "      <td>4.225664</td>\n",
       "      <td>4.500000</td>\n",
       "      <td>3.199115</td>\n",
       "      <td>2.323009</td>\n",
       "      <td>2.920354</td>\n",
       "    </tr>\n",
       "    <tr>\n",
       "      <th>2</th>\n",
       "      <td>High school degree</td>\n",
       "      <td>3.802817</td>\n",
       "      <td>3.746479</td>\n",
       "      <td>4.126761</td>\n",
       "      <td>3.211268</td>\n",
       "      <td>2.873239</td>\n",
       "      <td>3.239437</td>\n",
       "    </tr>\n",
       "    <tr>\n",
       "      <th>3</th>\n",
       "      <td>Less than high school degree</td>\n",
       "      <td>5.000000</td>\n",
       "      <td>5.333333</td>\n",
       "      <td>3.666667</td>\n",
       "      <td>2.666667</td>\n",
       "      <td>1.000000</td>\n",
       "      <td>3.333333</td>\n",
       "    </tr>\n",
       "    <tr>\n",
       "      <th>4</th>\n",
       "      <td>Some college or Associate degree</td>\n",
       "      <td>3.551181</td>\n",
       "      <td>3.885827</td>\n",
       "      <td>4.102362</td>\n",
       "      <td>3.503937</td>\n",
       "      <td>2.783465</td>\n",
       "      <td>3.173228</td>\n",
       "    </tr>\n",
       "  </tbody>\n",
       "</table>\n",
       "</div>"
      ],
      "text/plain": [
       "                          Education  ranking_Ep.1  ranking_Ep.2  ranking_Ep.3  \\\n",
       "0                   Bachelor degree      3.828244      4.290076      4.521073   \n",
       "1                   Graduate degree      3.822222      4.225664      4.500000   \n",
       "2                High school degree      3.802817      3.746479      4.126761   \n",
       "3      Less than high school degree      5.000000      5.333333      3.666667   \n",
       "4  Some college or Associate degree      3.551181      3.885827      4.102362   \n",
       "\n",
       "   ranking_Ep.4  ranking_Ep.5  ranking_Ep.6  \n",
       "0      3.114504      2.309160      2.931298  \n",
       "1      3.199115      2.323009      2.920354  \n",
       "2      3.211268      2.873239      3.239437  \n",
       "3      2.666667      1.000000      3.333333  \n",
       "4      3.503937      2.783465      3.173228  "
      ]
     },
     "execution_count": 18,
     "metadata": {},
     "output_type": "execute_result"
    }
   ],
   "source": [
    "# Creating our pivot table based on those 5 levels of Education:\n",
    "education_pivot = star_wars.pivot_table(\n",
    "    index='Education',\n",
    "    values=['ranking_Ep.1', \n",
    "            'ranking_Ep.2', \n",
    "            'ranking_Ep.3', \n",
    "            'ranking_Ep.4', \n",
    "            'ranking_Ep.5',\n",
    "            'ranking_Ep.6'],\n",
    "    aggfunc='mean',\n",
    "    dropna=True\n",
    "    )\n",
    "\n",
    "# Reseting the Dataframe (DF) index and turning Education as a label:\n",
    "education_pivot = education_pivot.reset_index().copy()\n",
    "# Displaying the first five rows of our newly created education_pivot DF:\n",
    "education_pivot.head()"
   ]
  },
  {
   "cell_type": "code",
   "execution_count": 29,
   "metadata": {
    "collapsed": false
   },
   "outputs": [
    {
     "data": {
      "image/png": "[encoded data removed]",
      "text/plain": [
       "<matplotlib.figure.Figure at 0x7f351a122da0>"
      ]
     },
     "metadata": {},
     "output_type": "display_data"
    }
   ],
   "source": [
    "# Plotting 6 pie charts, one for each movie,of the rankings segmented by the \n",
    "# Star Wars fans Education levels.These levels are divided into 5 categories:\n",
    "# Bachelor degree (B); Graduate degree (G); High school degree (HS);\n",
    "# Less than high school degree (<HS); Some College or Associate degree (CAD):\n",
    "\n",
    "# Plotting 6 pie graphs of the education_pivot Dataset:\n",
    "edu = education_pivot[[\n",
    "                      'ranking_Ep.1',\n",
    "                      'ranking_Ep.2',\n",
    "                      'ranking_Ep.3',\n",
    "                      'ranking_Ep.4',\n",
    "                      'ranking_Ep.5',\n",
    "                      'ranking_Ep.6']].plot.pie(subplots=True,\n",
    "                                            figsize=(18, 3),\n",
    "                                            legend=False,\n",
    "                                            labels=[\n",
    "                                            'B',\n",
    "                                            'G',\n",
    "                                            'HS',\n",
    "                                            '<HS',\n",
    "                                            'CAD'\n",
    "                                            ],\n",
    "                                            colors=[(100/255,143/255,255/255),\n",
    "                                                  (120/255,95/255,240/255),\n",
    "                                                   (220/255,38/255,127/255),\n",
    "                                                   (254/255,97/255,0/255),\n",
    "                                                   (255/255,176/255,0/255)])\n",
    "# ENHANCING PLOT AESTHETICS: \n",
    "\n",
    "# Removing the edgecolor black from all the pie charts:\n",
    "plt.rcParams['patch.edgecolor'] = 'white'\n",
    "# Displaying the graph:\n",
    "plt.show()"
   ]
  },
  {
   "cell_type": "markdown",
   "metadata": {},
   "source": [
    "### Findings:\n",
    "\n",
    "#### - There isn't, at a first glance, a very strong evidence that respondents belonging to one certain level of Education tend to choose some certain Episodes over others, from all the six movies of the Star Wars saga in analysis, ranking some group of movies much higher in detriment of others. \n",
    "#### - The sample tends do be moreless homogeneous. If from one side we see fans with less than a High School degree giving a high ranking to The Star Wars Episode V. They than cut that score in the next movie of the saga, the Episode VI, and give a better ranking to the third movie, Star Wars Episode III - Revenge of the Sith. Moreless the same applies to the High School Degree fans. They tend to rank all the six movies moreless the same.\n",
    "#### - A slight trend is observable though for the Bachelor and Graduate groups. These two groups seem to give a slightly better rank to the 'old' movies (Episodes IV-VI) from the saga, compared to 'new' ones ((Episodes I-III)."
   ]
  },
  {
   "cell_type": "markdown",
   "metadata": {},
   "source": [
    "## Cleaning the Dataset Episode 2\n",
    "#### The most and the least loved, and the more controversial characters from all the 6 Episodes"
   ]
  },
  {
   "cell_type": "code",
   "execution_count": 20,
   "metadata": {
    "collapsed": false
   },
   "outputs": [
    {
     "name": "stdout",
     "output_type": "stream",
     "text": [
      "Index(['Please state whether you view the following characters favorably, unfavorably, or are unfamiliar with him/her.',\n",
      "       'Unnamed: 16', 'Unnamed: 17', 'Unnamed: 18', 'Unnamed: 19',\n",
      "       'Unnamed: 20', 'Unnamed: 21', 'Unnamed: 22', 'Unnamed: 23',\n",
      "       'Unnamed: 24', 'Unnamed: 25', 'Unnamed: 26', 'Unnamed: 27',\n",
      "       'Unnamed: 28'],\n",
      "      dtype='object')\n"
     ]
    }
   ],
   "source": [
    "# Returning the necessary cols for this specific analysis:\n",
    "print(star_wars.columns[15:29])"
   ]
  },
  {
   "cell_type": "code",
   "execution_count": 21,
   "metadata": {
    "collapsed": false
   },
   "outputs": [
    {
     "data": {
      "text/plain": [
       "Index(['Han Solo', 'Luke Skywalker', 'Princess Leia Organa',\n",
       "       'Anakin Skywalker', 'Obi Wan Kenobi', 'Emperor Palpatine',\n",
       "       'Darth Vader', 'Lando Calrissian', 'Boba Fett', 'C-3P0', 'R2 D2',\n",
       "       'Jar Jar Binks', 'Padme Amidala', 'Yoda'],\n",
       "      dtype='object')"
      ]
     },
     "execution_count": 21,
     "metadata": {},
     "output_type": "execute_result"
    }
   ],
   "source": [
    "# Renaming all our cols that rate, according to the fans preferences, the\n",
    "# characters from the first six Episodes of the Star Wars saga.\n",
    "# Each column is being renamed after the correspondent character:\n",
    "star_wars = star_wars.rename(columns={\n",
    "'Please state whether you view the following characters favorably, unfavorably, or are unfamiliar with him/her.': 'Han Solo',\n",
    "'Unnamed: 16': 'Luke Skywalker',\n",
    "'Unnamed: 17': 'Princess Leia Organa',\n",
    "'Unnamed: 18': 'Anakin Skywalker',\n",
    "'Unnamed: 19': 'Obi Wan Kenobi',\n",
    "'Unnamed: 20': 'Emperor Palpatine',\n",
    "'Unnamed: 21': 'Darth Vader',\n",
    "'Unnamed: 22': 'Lando Calrissian',\n",
    "'Unnamed: 23': 'Boba Fett',\n",
    "'Unnamed: 24': 'C-3P0',\n",
    "'Unnamed: 25': 'R2 D2',\n",
    "'Unnamed: 26': 'Jar Jar Binks',\n",
    "'Unnamed: 27': 'Padme Amidala',\n",
    "'Unnamed: 28': 'Yoda'}).copy()\n",
    "                            \n",
    "# Validating the previous changes:\n",
    "star_wars.columns[15:29]"
   ]
  },
  {
   "cell_type": "code",
   "execution_count": 22,
   "metadata": {
    "collapsed": false
   },
   "outputs": [
    {
     "data": {
      "text/plain": [
       "Very unfavorably                                 3\n",
       "Unfamiliar (N/A)                                 6\n",
       "Somewhat unfavorably                            13\n",
       "Neither favorably nor unfavorably (neutral)     38\n",
       "Somewhat favorably                             219\n",
       "NaN                                            355\n",
       "Very favorably                                 552\n",
       "Name: Luke Skywalker, dtype: int64"
      ]
     },
     "execution_count": 22,
     "metadata": {},
     "output_type": "execute_result"
    }
   ],
   "source": [
    "# Checking, resorting to the value_counts() method, how many rating types\n",
    "# there are to rank our characters:\n",
    "\n",
    "star_wars['Luke Skywalker'].value_counts(dropna=False).sort_values()"
   ]
  },
  {
   "cell_type": "code",
   "execution_count": 23,
   "metadata": {
    "collapsed": false
   },
   "outputs": [
    {
     "data": {
      "text/plain": [
       "Unfamiliar (N/A)                                10\n",
       "Neither favorably nor unfavorably (neutral)     84\n",
       "Somewhat unfavorably                           102\n",
       "Very unfavorably                               149\n",
       "Somewhat favorably                             171\n",
       "Very favorably                                 310\n",
       "NaN                                            360\n",
       "Name: Darth Vader, dtype: int64"
      ]
     },
     "execution_count": 23,
     "metadata": {},
     "output_type": "execute_result"
    }
   ],
   "source": [
    "star_wars['Darth Vader'].value_counts(dropna=False).sort_values()"
   ]
  },
  {
   "cell_type": "code",
   "execution_count": 24,
   "metadata": {
    "collapsed": false
   },
   "outputs": [
    {
     "data": {
      "text/plain": [
       "Very unfavorably                                 8\n",
       "Somewhat unfavorably                             8\n",
       "Unfamiliar (N/A)                                10\n",
       "Neither favorably nor unfavorably (neutral)     51\n",
       "Somewhat favorably                             144\n",
       "NaN                                            360\n",
       "Very favorably                                 605\n",
       "Name: Yoda, dtype: int64"
      ]
     },
     "execution_count": 24,
     "metadata": {},
     "output_type": "execute_result"
    }
   ],
   "source": [
    "star_wars['Yoda'].value_counts(dropna=False).sort_values()"
   ]
  },
  {
   "cell_type": "code",
   "execution_count": 25,
   "metadata": {
    "collapsed": false
   },
   "outputs": [
    {
     "data": {
      "text/plain": [
       "Han Solo                357\n",
       "Luke Skywalker          355\n",
       "Princess Leia Organa    355\n",
       "Anakin Skywalker        363\n",
       "Obi Wan Kenobi          361\n",
       "Emperor Palpatine       372\n",
       "Darth Vader             360\n",
       "Lando Calrissian        366\n",
       "Boba Fett               374\n",
       "C-3P0                   359\n",
       "R2 D2                   356\n",
       "Jar Jar Binks           365\n",
       "Padme Amidala           372\n",
       "Yoda                    360\n",
       "dtype: int64"
      ]
     },
     "execution_count": 25,
     "metadata": {},
     "output_type": "execute_result"
    }
   ],
   "source": [
    "# In the few samples we previous analyzed we already check that the number \n",
    "# of Null values is very material in all of them.\n",
    "# Let's check in all of our characters cols with the isna() method:\n",
    "star_wars[star_wars.columns[15:29]].isna().sum()"
   ]
  },
  {
   "cell_type": "markdown",
   "metadata": {},
   "source": [
    "### Findings:\n",
    "\n",
    "#### - The number of Null values although being very significant, its very similar in terms of frequency, across all the characters. Ranging from 355-374. This might be to some shared missing values across all the Dataset or some shared errors in inputing the data. Either way, being the numbers very similiar across all the Dataset, opting for excluding all these Nulls for our analysis becomes much less violent per se. "
   ]
  },
  {
   "cell_type": "code",
   "execution_count": 26,
   "metadata": {
    "collapsed": false
   },
   "outputs": [
    {
     "data": {
      "text/plain": [
       "Han Solo                0\n",
       "Luke Skywalker          0\n",
       "Princess Leia Organa    0\n",
       "Anakin Skywalker        0\n",
       "Obi Wan Kenobi          0\n",
       "Emperor Palpatine       0\n",
       "Darth Vader             0\n",
       "Lando Calrissian        0\n",
       "Boba Fett               0\n",
       "C-3P0                   0\n",
       "R2 D2                   0\n",
       "Jar Jar Binks           0\n",
       "Padme Amidala           0\n",
       "Yoda                    0\n",
       "dtype: int64"
      ]
     },
     "execution_count": 26,
     "metadata": {},
     "output_type": "execute_result"
    }
   ],
   "source": [
    "# Droping all the nulls from our characters rating using the dropna method,\n",
    "# and assigning the values to a new variable:\n",
    "star_wars_characters_rating = star_wars[star_wars.columns[\n",
    "    15:29]].dropna(axis=0).copy()\n",
    "# Verifying the previous method:\n",
    "star_wars_characters_rating.isna().sum()"
   ]
  },
  {
   "cell_type": "code",
   "execution_count": 31,
   "metadata": {
    "collapsed": false
   },
   "outputs": [
    {
     "data": {
      "text/html": [
       "<div>\n",
       "<style scoped>\n",
       "    .dataframe tbody tr th:only-of-type {\n",
       "        vertical-align: middle;\n",
       "    }\n",
       "\n",
       "    .dataframe tbody tr th {\n",
       "        vertical-align: top;\n",
       "    }\n",
       "\n",
       "    .dataframe thead th {\n",
       "        text-align: right;\n",
       "    }\n",
       "</style>\n",
       "<table border=\"1\" class=\"dataframe\">\n",
       "  <thead>\n",
       "    <tr style=\"text-align: right;\">\n",
       "      <th></th>\n",
       "      <th>Han Solo</th>\n",
       "      <th>Luke Skywalker</th>\n",
       "      <th>Princess Leia</th>\n",
       "      <th>Anakin</th>\n",
       "      <th>Obi Wan Kenobi</th>\n",
       "      <th>Emperor Palpatine</th>\n",
       "      <th>Darth Vader</th>\n",
       "      <th>Lando Calrissian</th>\n",
       "      <th>Boba Fett</th>\n",
       "      <th>C-3P0</th>\n",
       "      <th>R2 D2</th>\n",
       "      <th>Jar Jar Binks</th>\n",
       "      <th>Padme Amidala</th>\n",
       "      <th>Yoda</th>\n",
       "    </tr>\n",
       "  </thead>\n",
       "  <tbody>\n",
       "    <tr>\n",
       "      <th>1</th>\n",
       "      <td>Favorably</td>\n",
       "      <td>Favorably</td>\n",
       "      <td>Favorably</td>\n",
       "      <td>Favorably</td>\n",
       "      <td>Favorably</td>\n",
       "      <td>Favorably</td>\n",
       "      <td>Favorably</td>\n",
       "      <td>Unknown</td>\n",
       "      <td>Unknown</td>\n",
       "      <td>Favorably</td>\n",
       "      <td>Favorably</td>\n",
       "      <td>Favorably</td>\n",
       "      <td>Favorably</td>\n",
       "      <td>Favorably</td>\n",
       "    </tr>\n",
       "    <tr>\n",
       "      <th>3</th>\n",
       "      <td>Favorably</td>\n",
       "      <td>Favorably</td>\n",
       "      <td>Favorably</td>\n",
       "      <td>Favorably</td>\n",
       "      <td>Favorably</td>\n",
       "      <td>Unknown</td>\n",
       "      <td>Unknown</td>\n",
       "      <td>Unknown</td>\n",
       "      <td>Unknown</td>\n",
       "      <td>Unknown</td>\n",
       "      <td>Unknown</td>\n",
       "      <td>Unknown</td>\n",
       "      <td>Unknown</td>\n",
       "      <td>Unknown</td>\n",
       "    </tr>\n",
       "    <tr>\n",
       "      <th>4</th>\n",
       "      <td>Favorably</td>\n",
       "      <td>Favorably</td>\n",
       "      <td>Favorably</td>\n",
       "      <td>Favorably</td>\n",
       "      <td>Favorably</td>\n",
       "      <td>Favorably</td>\n",
       "      <td>Favorably</td>\n",
       "      <td>Favorably</td>\n",
       "      <td>Unfavorably</td>\n",
       "      <td>Favorably</td>\n",
       "      <td>Favorably</td>\n",
       "      <td>Favorably</td>\n",
       "      <td>Favorably</td>\n",
       "      <td>Favorably</td>\n",
       "    </tr>\n",
       "    <tr>\n",
       "      <th>5</th>\n",
       "      <td>Favorably</td>\n",
       "      <td>Favorably</td>\n",
       "      <td>Favorably</td>\n",
       "      <td>Unfavorably</td>\n",
       "      <td>Favorably</td>\n",
       "      <td>Unfavorably</td>\n",
       "      <td>Favorably</td>\n",
       "      <td>Neutral</td>\n",
       "      <td>Favorably</td>\n",
       "      <td>Favorably</td>\n",
       "      <td>Favorably</td>\n",
       "      <td>Unfavorably</td>\n",
       "      <td>Favorably</td>\n",
       "      <td>Favorably</td>\n",
       "    </tr>\n",
       "    <tr>\n",
       "      <th>6</th>\n",
       "      <td>Favorably</td>\n",
       "      <td>Favorably</td>\n",
       "      <td>Favorably</td>\n",
       "      <td>Favorably</td>\n",
       "      <td>Favorably</td>\n",
       "      <td>Neutral</td>\n",
       "      <td>Favorably</td>\n",
       "      <td>Neutral</td>\n",
       "      <td>Favorably</td>\n",
       "      <td>Favorably</td>\n",
       "      <td>Favorably</td>\n",
       "      <td>Favorably</td>\n",
       "      <td>Neutral</td>\n",
       "      <td>Favorably</td>\n",
       "    </tr>\n",
       "  </tbody>\n",
       "</table>\n",
       "</div>"
      ],
      "text/plain": [
       "    Han Solo Luke Skywalker Princess Leia       Anakin Obi Wan Kenobi  \\\n",
       "1  Favorably      Favorably     Favorably    Favorably      Favorably   \n",
       "3  Favorably      Favorably     Favorably    Favorably      Favorably   \n",
       "4  Favorably      Favorably     Favorably    Favorably      Favorably   \n",
       "5  Favorably      Favorably     Favorably  Unfavorably      Favorably   \n",
       "6  Favorably      Favorably     Favorably    Favorably      Favorably   \n",
       "\n",
       "  Emperor Palpatine Darth Vader Lando Calrissian    Boba Fett      C-3P0  \\\n",
       "1         Favorably   Favorably          Unknown      Unknown  Favorably   \n",
       "3           Unknown     Unknown          Unknown      Unknown    Unknown   \n",
       "4         Favorably   Favorably        Favorably  Unfavorably  Favorably   \n",
       "5       Unfavorably   Favorably          Neutral    Favorably  Favorably   \n",
       "6           Neutral   Favorably          Neutral    Favorably  Favorably   \n",
       "\n",
       "       R2 D2 Jar Jar Binks Padme Amidala       Yoda  \n",
       "1  Favorably     Favorably     Favorably  Favorably  \n",
       "3    Unknown       Unknown       Unknown    Unknown  \n",
       "4  Favorably     Favorably     Favorably  Favorably  \n",
       "5  Favorably   Unfavorably     Favorably  Favorably  \n",
       "6  Favorably     Favorably       Neutral  Favorably  "
      ]
     },
     "execution_count": 31,
     "metadata": {},
     "output_type": "execute_result"
    }
   ],
   "source": [
    "# Now thats combine the several types of answers that the respondents gave \n",
    "# into 4 major groups: Favorably; Unfavorably; Neutral; Unknown. we do this\n",
    "# in order to facilitate and structure our analysis in biggers groups:\n",
    "star_wars_characters_rating = star_wars_characters_rating.replace([\n",
    "    'Somewhat unfavorably', \n",
    "    'Very unfavorably',\n",
    "    'Somewhat favorably',\n",
    "    'Very favorably',\n",
    "    'Unfamiliar (N/A)', \n",
    "    'Neither favorably nor unfavorably (neutral)'], \n",
    "    ['Unfavorably',\n",
    "     'Unfavorably',\n",
    "     'Favorably',\n",
    "     'Favorably',\n",
    "     'Unknown',\n",
    "     'Neutral']).copy()\n",
    "\n",
    "# Shortening some cols names, thus improving their readability:\n",
    "star_wars_characters_rating = star_wars_characters_rating.rename(columns={\n",
    "    'Princess Leia Organa': 'Princess Leia',\n",
    "    'Anakin Skywalker': 'Anakin'}).copy()\n",
    "# Displaying the first five rows\n",
    "star_wars_characters_rating.head()"
   ]
  },
  {
   "cell_type": "markdown",
   "metadata": {},
   "source": [
    "## Analyzing the Dataset Episode 2\n",
    "#### The most and the least loved, and the more controversial characters from all the 6 Episodes\n"
   ]
  },
  {
   "cell_type": "code",
   "execution_count": 37,
   "metadata": {
    "collapsed": false
   },
   "outputs": [
    {
     "data": {
      "image/png": "[encoded data removed]",
      "text/plain": [
       "<matplotlib.figure.Figure at 0x7f351843f278>"
      ]
     },
     "metadata": {},
     "output_type": "display_data"
    }
   ],
   "source": [
    "# Creating all our 4 Bars, based on the 4 major ratings each respondent\n",
    "# gave to the main Star Wars characters, stacking them up accordingly to \n",
    "# that very same rating group, and distributing them along each of the main\n",
    "# characters:\n",
    "fig, ax = plt.subplots(figsize=(22,10))\n",
    "characters = star_wars_characters_rating.columns.values\n",
    "r = np.arange(len(characters))\n",
    "bar_w = .85\n",
    "\n",
    "# Calculating the percentages of the 4 major character rating groups:\n",
    "Favorably = ((star_wars_characters_rating == \n",
    "    'Favorably').sum()/star_wars_characters_rating.shape[0]) * 100\n",
    "Unfavorably = ((star_wars_characters_rating == \n",
    "        'Unfavorably').sum()/star_wars_characters_rating.shape[0]) * 100\n",
    "Neutral = (star_wars_characters_rating ==\n",
    "          'Neutral').sum()/star_wars_characters_rating.shape[0] * 100\n",
    "Unknown = (star_wars_characters_rating == \n",
    "           'Unknown').sum()/star_wars_characters_rating.shape[0] * 100\n",
    "\n",
    "# Plotting a stacked bar graph for each of the previous variables:\n",
    "plt.bar(r, Favorably[r], color=(26/255,255/255,26/255), edgecolor='white', width = bar_w)\n",
    "plt.bar(r, Neutral[r], bottom=Favorably[r], color=(254/255,254/255,98/255), edgecolor='white', width = bar_w)\n",
    "plt.bar(r, Unknown[r], bottom=(Favorably[r]+ Neutral[r]), color=(195/255,186/255,164/255), edgecolor='white', width = bar_w)\n",
    "plt.bar(r, Unfavorably[r], bottom=(Favorably[r]+ Neutral[r] + Unknown[r]), color=(254/255,58/255,0/255), edgecolor='white', width=bar_w)\n",
    "plt.xticks(r+.35, characters)\n",
    "plt.yticks(np.arange(20, 120, 20))\n",
    "\n",
    "# ENHANCING PLOT AESTHETICS:\n",
    "\n",
    "# Removing the ticks from the graph:\n",
    "ax.tick_params(bottom='off',\n",
    "              top='off',\n",
    "              left='off',\n",
    "              right='off')\n",
    "# Removing the spines from our graph:\n",
    "for key, spine in ax.spines.items():\n",
    "    spine.set_visible(False)\n",
    "\n",
    "# Setting up a legend box for our bar graph:    \n",
    "plt.legend(\n",
    "    loc='upper right', \n",
    "    labels=('Favorably', 'Neutral', 'Unknown', 'Unfavorably'), \n",
    "    ncol=1, fancybox=True, framealpha=.6)\n",
    "\n",
    "# Displaying the graph:\n",
    "plt.show()"
   ]
  },
  {
   "cell_type": "markdown",
   "metadata": {},
   "source": [
    "### Findings:\n",
    "\n",
    "#### - Not surprisingly the villain characters are seen as the least favourable of them all. In the opposite spectrum we have the so called heroes of the Star Wars saga. \n",
    "#### - Characters like Luke Skywalker; Obi Wan Kenobi; Han Solo; Yoda and R2 D2 all top the first 5 choices of the fans. And Luke will forever remain in all of the fans hearts as the one and only number 1. \n",
    "#### - The most unfavorable character of them all is, for surprise of many, or maybe not, Jar Jar Binks. I don' t think this is perceived as he beeing a villain, but rahter an empty shallow character. Very weak lines, forced appearances in the plot, like he would suddenly fall from the sky directly in the movie set. The only reasoning for me for him to have been in the movies was purely economics. Someone wanted to push their merchandising sales figures.\n",
    "#### - No surprises on the other most unfavorable characters of the saga. Maybe I would expect, and this is my personal opinion, the most unfavorable one, apart from Jar Jar Binks, to be Emperor Palpatine, and not Darth Vader. I would even rate him as one of the Good ones. Not only because of his master played role and his amazing and iconic character, but also because of his contribute to the light side of the force, especially in the last episode of the saga. \n",
    "#### - Darth Vader, appart of being one of the least favourite characters, is also the most controversial one. If we take out of the equation the Unknown and the Neutral answers we end up with only the Favorably and the Unfavorably opinions of the fans. And taking these two antagonistic opinions no one beats Darth Vader in the bipolarization of the fans opinions. Hence my previous statement. You hate him or you love him, and fans opinions relatively to the character of Darth Vader are among the most divided ones. \n",
    "#### - On the side of the Unknowns I have to confess, WHO IS BOBA FETT? I have to say that I had to do an herculean effort to go to my very far far away corners of my brain only to, after googling for it, find out I was wrong :D. Anyway, I think this choice from the survey promotors - FiveThirtyEight was not the happiest one. Why not, for example, Chewbacca or Jabba the Hutt?\n",
    "#### - The other mysterious personage, for the Star Wars fans surveyed, Lando Calrissian, I can only explain by a mix of old generation and lack of screenplay time?!\n"
   ]
  },
  {
   "cell_type": "markdown",
   "metadata": {},
   "source": [
    "## === Bottom Line ===\n",
    "#### After our analysis we can wrap and conclude the following:\n",
    "    1. Star Wars fans are well aware of the importance of the Episode 5 - The Empire Strikes Back movie. Not only was this the most seen \n",
    "    movie as it was the one they ranked at number one from all the 6\n",
    "    Episodes of the saga;\n",
    "    \n",
    "    2. There's a collage of the most ranked movies of the saga by the \n",
    "    fans, and their respective rating at IMDb. The opposite is also seen on the other side of the force;\n",
    "    \n",
    "    3. Bad boys will go to hell, and Good boys will top the preference\n",
    "    choices of the fans;\n",
    "    \n",
    "    4. Better to be a bad boy than a bad actor or a bad role. And Jar \n",
    "    Jar Binks is a very good example of those two;\n",
    "    \n",
    "    5. Marketing expenditures with a pinch of growing anxiety creates \n",
    "    the ideal recipe to bring massive flows of fans to the movie \n",
    "    theaters. Well done 20th Century Fox, better late than never;\n",
    "    \n",
    "    6. The previous does not mean that you can apply the same recipe \n",
    "    over and over to boost movie theaters ticket sales. A schmuck will\n",
    "    remain a schmuck no matter how well portrayed he is. Better luck \n",
    "    next time 20th Century Fox. Maybe channelling more money into the \n",
    "    movies per se, and improving their quality, instead of masking them with tons of marketing woudn't be such a bad idea;\n",
    "    \n",
    "    7. The IQ levels of the Star Wars fans doesn't play a significant \n",
    "    role in their opinions and how they perceive the quality of the \n",
    "    movies;\n",
    "    \n",
    "    8. What unease most of the trully Star Wars fans, now that all of \n",
    "    the Star Wars sagas and future productions have been sold to the \n",
    "    Mickey Mouse, Mulan or Maleficent: Mistress of Evil orchestrator, \n",
    "    is: Will we ever again in our lifetime have another opportunity \n",
    "    to contemplate a movie such as The Empire Strikes Back? \n",
    "    "
   ]
  }
 ],
 "metadata": {
  "kernelspec": {
   "display_name": "Python 3",
   "language": "python",
   "name": "python3"
  },
  "language_info": {
   "codemirror_mode": {
    "name": "ipython",
    "version": 3
   },
   "file_extension": ".py",
   "mimetype": "text/x-python",
   "name": "python",
   "nbconvert_exporter": "python",
   "pygments_lexer": "ipython3",
   "version": "3.4.3"
  }
 },
 "nbformat": 4,
 "nbformat_minor": 0
}
