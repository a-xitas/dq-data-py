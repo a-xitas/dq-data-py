{
 "cells": [
  {
   "cell_type": "markdown",
   "metadata": {},
   "source": [
    "# My first DQ project (on most used free apps)\n",
    "\n",
    "**with this project I will try to gain a view on which free apps are most sought after in order to monetize the possibility to introduce adds on a free app we are trying to develop**"
   ]
  },
  {
   "cell_type": "markdown",
   "metadata": {},
   "source": [
    "- opening the Apple Dataset [link](https://www.kaggle.com/ramamet4/app-store-apple-data-set-10k-apps/home):"
   ]
  },
  {
   "cell_type": "code",
   "execution_count": 1,
   "metadata": {
    "collapsed": true
   },
   "outputs": [],
   "source": [
    "from csv import reader\n",
    "opened_file_A = open('AppleStore.csv', encoding=\"utf8\")\n",
    "read_file_A = reader(opened_file_A)\n",
    "Apps_Ds = list(read_file_A)"
   ]
  },
  {
   "cell_type": "markdown",
   "metadata": {},
   "source": [
    "- opening the Google Play Dataset [link](https://www.kaggle.com/lava18/google-play-store-apps/home):"
   ]
  },
  {
   "cell_type": "code",
   "execution_count": 2,
   "metadata": {
    "collapsed": false
   },
   "outputs": [],
   "source": [
    "opened_file_G =  open('googleplaystore.csv', encoding=\"utf8\")\n",
    "read_file_G = reader(opened_file_G)\n",
    "Google_Ds = list(read_file_G)\n"
   ]
  },
  {
   "cell_type": "markdown",
   "metadata": {},
   "source": [
    "- creating a function to xplore the data:"
   ]
  },
  {
   "cell_type": "code",
   "execution_count": 3,
   "metadata": {
    "collapsed": true
   },
   "outputs": [],
   "source": [
    "def explore_data(dataset, start, end, rows_and_columns=False):\n",
    "    dataset_slice = dataset[start:end]\n",
    "    for row in dataset_slice:\n",
    "        print(row)\n",
    "        print('\\n') #adds a new (empty) line\n",
    "        \n",
    "    if rows_and_columns:\n",
    "        print('Number of rows:', len(dataset))\n",
    "        print('Number of columns:', len(dataset[0]))"
   ]
  },
  {
   "cell_type": "code",
   "execution_count": 4,
   "metadata": {
    "collapsed": false
   },
   "outputs": [
    {
     "name": "stdout",
     "output_type": "stream",
     "text": [
      "['id', 'track_name', 'size_bytes', 'currency', 'price', 'rating_count_tot', 'rating_count_ver', 'user_rating', 'user_rating_ver', 'ver', 'cont_rating', 'prime_genre', 'sup_devices.num', 'ipadSc_urls.num', 'lang.num', 'vpp_lic']\n"
     ]
    }
   ],
   "source": [
    "print(Apps_Ds[0]) #printing the header of the Apple Dataset"
   ]
  },
  {
   "cell_type": "code",
   "execution_count": 5,
   "metadata": {
    "collapsed": false
   },
   "outputs": [
    {
     "name": "stdout",
     "output_type": "stream",
     "text": [
      "['App', 'Category', 'Rating', 'Reviews', 'Size', 'Installs', 'Type', 'Price', 'Content Rating', 'Genres', 'Last Updated', 'Current Ver', 'Android Ver']\n"
     ]
    }
   ],
   "source": [
    "print(Google_Ds[0]) #printing the header of the Google Dataset"
   ]
  },
  {
   "cell_type": "markdown",
   "metadata": {},
   "source": [
    "**Now we will, before the analysis, have to do some data cleaning to our 2 Datasets. And remove duplicates or typos in the info, or info that really doesnt matter, like apps in other language other than English!**"
   ]
  },
  {
   "cell_type": "code",
   "execution_count": 6,
   "metadata": {
    "collapsed": false
   },
   "outputs": [
    {
     "name": "stdout",
     "output_type": "stream",
     "text": [
      "['Life Made WI-Fi Touchscreen Photo Frame', '1.9', '19', '3.0M', '1,000+', 'Free', '0', 'Everyone', '', 'February 11, 2018', '1.0.19', '4.0 and up']\n"
     ]
    }
   ],
   "source": [
    "print(Google_Ds[10473])"
   ]
  },
  {
   "cell_type": "markdown",
   "metadata": {},
   "source": [
    "- the Google Dataset has an error in row 10473. Were the Category of the app doesnt appear, instead in its place we have the rating. We will have to delete this row:"
   ]
  },
  {
   "cell_type": "code",
   "execution_count": 7,
   "metadata": {
    "collapsed": false
   },
   "outputs": [],
   "source": [
    "del Google_Ds[10473]"
   ]
  },
  {
   "cell_type": "markdown",
   "metadata": {},
   "source": [
    "- Scraping for Duplicate entries in our Dataset. Because As read in the Kaggle Discussion area, for the Google Play store Dataset, this Dataset as a number os duplicate entries on it. \n",
    "- As example I will show some duplicates for the Instagram app:"
   ]
  },
  {
   "cell_type": "code",
   "execution_count": 8,
   "metadata": {
    "collapsed": false
   },
   "outputs": [
    {
     "name": "stdout",
     "output_type": "stream",
     "text": [
      "['App', 'Category', 'Rating', 'Reviews', 'Size', 'Installs', 'Type', 'Price', 'Content Rating', 'Genres', 'Last Updated', 'Current Ver', 'Android Ver']\n",
      "['Instagram', 'SOCIAL', '4.5', '66577313', 'Varies with device', '1,000,000,000+', 'Free', '0', 'Teen', 'Social', 'July 31, 2018', 'Varies with device', 'Varies with device']\n",
      "\n",
      "\n",
      "['App', 'Category', 'Rating', 'Reviews', 'Size', 'Installs', 'Type', 'Price', 'Content Rating', 'Genres', 'Last Updated', 'Current Ver', 'Android Ver']\n",
      "['Instagram', 'SOCIAL', '4.5', '66577446', 'Varies with device', '1,000,000,000+', 'Free', '0', 'Teen', 'Social', 'July 31, 2018', 'Varies with device', 'Varies with device']\n",
      "\n",
      "\n",
      "['App', 'Category', 'Rating', 'Reviews', 'Size', 'Installs', 'Type', 'Price', 'Content Rating', 'Genres', 'Last Updated', 'Current Ver', 'Android Ver']\n",
      "['Instagram', 'SOCIAL', '4.5', '66577313', 'Varies with device', '1,000,000,000+', 'Free', '0', 'Teen', 'Social', 'July 31, 2018', 'Varies with device', 'Varies with device']\n",
      "\n",
      "\n",
      "['App', 'Category', 'Rating', 'Reviews', 'Size', 'Installs', 'Type', 'Price', 'Content Rating', 'Genres', 'Last Updated', 'Current Ver', 'Android Ver']\n",
      "['Instagram', 'SOCIAL', '4.5', '66509917', 'Varies with device', '1,000,000,000+', 'Free', '0', 'Teen', 'Social', 'July 31, 2018', 'Varies with device', 'Varies with device']\n",
      "\n",
      "\n"
     ]
    }
   ],
   "source": [
    "for column in Google_Ds:\n",
    "    header = Google_Ds[0]\n",
    "    name = column[0]\n",
    "    if name == 'Instagram':\n",
    "        print(header)\n",
    "        print(column)\n",
    "        print(\"\\n\")"
   ]
  },
  {
   "cell_type": "markdown",
   "metadata": {},
   "source": [
    "- Now we should and ought to count how many duplicate entries we have in this Dataset of Google Play Store. By Looping trough the entire Dataset and verifying if the variable *name*, that should correspond to the name of an app is already in the empty list we created for the unique_apps, and if it isn't to be part of that list, and once that very same app is encountered again, and is part of the unique_apps list, should then be part of the duplicate_apps list. We then simply return the total number of those duplicate entries, and also print some examples of them:"
   ]
  },
  {
   "cell_type": "code",
   "execution_count": 9,
   "metadata": {
    "collapsed": false
   },
   "outputs": [
    {
     "name": "stdout",
     "output_type": "stream",
     "text": [
      "Nº of Duplicate Apps: 1181\n",
      "\n",
      "\n",
      "Some examples of Duplicate Entries: ['Quick PDF Scanner + OCR FREE', 'Box', 'Google My Business', 'ZOOM Cloud Meetings', 'join.me - Simple Meetings', 'Box', 'Zenefits', 'Google Ads', 'Google My Business', 'Slack']\n"
     ]
    }
   ],
   "source": [
    "duplicate_apps = []\n",
    "unique_apps = []\n",
    "\n",
    "for column in Google_Ds:\n",
    "    name = column[0]\n",
    "    if name in unique_apps:\n",
    "        duplicate_apps.append(name)\n",
    "    else:\n",
    "        unique_apps.append(name)\n",
    "        \n",
    "print('Nº of Duplicate Apps:', len(duplicate_apps))\n",
    "print('\\n')\n",
    "print('Some examples of Duplicate Entries:', duplicate_apps[:10])"
   ]
  },
  {
   "cell_type": "markdown",
   "metadata": {},
   "source": [
    "- This Duplicate Entries won't be, obsviously, randomly deleted! I will use the info that's differentiating them from one another, the column *Reviews*, and assume that the ones that have the more *Reviews* are the ones that are more updated. Being therefore the ones that should stay in our Dataset and all the other duplicates deleted! "
   ]
  },
  {
   "cell_type": "markdown",
   "metadata": {},
   "source": [
    "- We will start by first sorting and saving the apps that have the highst number of reviews.\n",
    "- First we will creat an empty dict with the name of *reviews_max*, where we will save the name of the app as a key, and the total number of reviews as the value of that unique key\n",
    "- Then we will loop through the Google_Ds and isolate the variable *name* which corresponds to the name of the app, and the variable *n_reviews* which corresponds to the nº of the reviews a certain app has.\n",
    "\n",
    "    - Using an if Statement we will assess if the app already exists in the dict we created and if the key:value is inferior to the the biggest review it will have the biggest review as the new value for the key name app. If the app is not in the reviews_max dict it will had it to the dict under the form key(name):value(n_reviews)"
   ]
  },
  {
   "cell_type": "code",
   "execution_count": 10,
   "metadata": {
    "collapsed": false
   },
   "outputs": [
    {
     "name": "stdout",
     "output_type": "stream",
     "text": [
      "9659\n",
      "9659\n"
     ]
    }
   ],
   "source": [
    "reviews_max  = {}\n",
    "\n",
    "for column in Google_Ds[1:]:\n",
    "    name = column[0]\n",
    "    n_reviews = float(column[3])\n",
    "    if name in reviews_max and reviews_max[name] < n_reviews:\n",
    "        reviews_max[name] = n_reviews\n",
    "    elif name not in reviews_max:\n",
    "        reviews_max[name] = n_reviews\n",
    "\n",
    "\n",
    "#print(reviews_max)\n",
    "\n",
    "print(len(reviews_max))\n",
    "print(len(Google_Ds[1:]) - 1181)"
   ]
  },
  {
   "cell_type": "markdown",
   "metadata": {},
   "source": [
    "- We can check above that now we have the same number of unique apps in our *reviews_max* dict as we should have in our Google_Ds: 9659"
   ]
  },
  {
   "cell_type": "markdown",
   "metadata": {},
   "source": [
    "## Now lets incorporate our unique entries into our Google_Ds and delete the Duplicates:\n",
    "- first lets creat 2 empty lists and assign them to the variables *Google_Ds_clean* and *already_added*. The first one will store our newly cleaned and unique rows, and the second will save the name of the apps we add to the list *Google_Ds_clean*\n",
    "\n",
    "- Afterwards we will loop through our *Google_Ds* and isolate the variables *name* and *n_reviews*\n",
    "    - For each iteration we will append the rows/columns to our *Google_Ds_clean* list, if the variable *n_reviews* is equal to the value we had in our dict *reviews_max*, that should have the **key**(name of the app)**:value**(max review of that very app. And we also have to check if that app isnt already in the *already_added* list! We have to validate this condition because we have apps that have duplicate entries and that cannot be sorte through the nº of their reviews, because they simple have the same nº of reviews for all the duplicated entries! So one way to not include the duplicate entries is by when in each iteration we had that app in our *Google_Ds_clean* we also include its name in the list *already_added* and once its in this list even if it validates the first condition: **if n_reviews == reviews_max[name]** it will not be included because the name is already in the *already_added* list, therefore solving this issue!"
   ]
  },
  {
   "cell_type": "code",
   "execution_count": 11,
   "metadata": {
    "collapsed": false
   },
   "outputs": [
    {
     "name": "stdout",
     "output_type": "stream",
     "text": [
      "[['Photo Editor & Candy Camera & Grid & ScrapBook', 'ART_AND_DESIGN', '4.1', '159', '19M', '10,000+', 'Free', '0', 'Everyone', 'Art & Design', 'January 7, 2018', '1.0.0', '4.0.3 and up'], ['U Launcher Lite – FREE Live Cool Themes, Hide Apps', 'ART_AND_DESIGN', '4.7', '87510', '8.7M', '5,000,000+', 'Free', '0', 'Everyone', 'Art & Design', 'August 1, 2018', '1.2.4', '4.0.3 and up'], ['Sketch - Draw & Paint', 'ART_AND_DESIGN', '4.5', '215644', '25M', '50,000,000+', 'Free', '0', 'Teen', 'Art & Design', 'June 8, 2018', 'Varies with device', '4.2 and up'], ['Pixel Draw - Number Art Coloring Book', 'ART_AND_DESIGN', '4.3', '967', '2.8M', '100,000+', 'Free', '0', 'Everyone', 'Art & Design;Creativity', 'June 20, 2018', '1.1', '4.4 and up'], ['Paper flowers instructions', 'ART_AND_DESIGN', '4.4', '167', '5.6M', '50,000+', 'Free', '0', 'Everyone', 'Art & Design', 'March 26, 2017', '1.0', '2.3 and up'], ['Smoke Effect Photo Maker - Smoke Editor', 'ART_AND_DESIGN', '3.8', '178', '19M', '50,000+', 'Free', '0', 'Everyone', 'Art & Design', 'April 26, 2018', '1.1', '4.0.3 and up'], ['Infinite Painter', 'ART_AND_DESIGN', '4.1', '36815', '29M', '1,000,000+', 'Free', '0', 'Everyone', 'Art & Design', 'June 14, 2018', '6.1.61.1', '4.2 and up'], ['Garden Coloring Book', 'ART_AND_DESIGN', '4.4', '13791', '33M', '1,000,000+', 'Free', '0', 'Everyone', 'Art & Design', 'September 20, 2017', '2.9.2', '3.0 and up'], ['Kids Paint Free - Drawing Fun', 'ART_AND_DESIGN', '4.7', '121', '3.1M', '10,000+', 'Free', '0', 'Everyone', 'Art & Design;Creativity', 'July 3, 2018', '2.8', '4.0.3 and up'], ['Text on Photo - Fonteee', 'ART_AND_DESIGN', '4.4', '13880', '28M', '1,000,000+', 'Free', '0', 'Everyone', 'Art & Design', 'October 27, 2017', '1.0.4', '4.1 and up']]\n",
      "\n",
      "\n",
      "9659\n",
      "['Photo Editor & Candy Camera & Grid & ScrapBook', 'ART_AND_DESIGN', '4.1', '159', '19M', '10,000+', 'Free', '0', 'Everyone', 'Art & Design', 'January 7, 2018', '1.0.0', '4.0.3 and up']\n",
      "\n",
      "\n",
      "['U Launcher Lite – FREE Live Cool Themes, Hide Apps', 'ART_AND_DESIGN', '4.7', '87510', '8.7M', '5,000,000+', 'Free', '0', 'Everyone', 'Art & Design', 'August 1, 2018', '1.2.4', '4.0.3 and up']\n",
      "\n",
      "\n",
      "['Sketch - Draw & Paint', 'ART_AND_DESIGN', '4.5', '215644', '25M', '50,000,000+', 'Free', '0', 'Teen', 'Art & Design', 'June 8, 2018', 'Varies with device', '4.2 and up']\n",
      "\n",
      "\n",
      "Number of rows: 9659\n",
      "Number of columns: 13\n"
     ]
    }
   ],
   "source": [
    "Google_Ds_clean = []\n",
    "already_added = []\n",
    "\n",
    "for column in Google_Ds[1:]:\n",
    "    name = column[0]\n",
    "    n_reviews = float(column[3])\n",
    "    if n_reviews == reviews_max[name] and name not in already_added:\n",
    "        Google_Ds_clean.append(column)\n",
    "        already_added.append(name)\n",
    "\n",
    "print(Google_Ds_clean[:10])\n",
    "print('\\n')\n",
    "print(len(Google_Ds_clean))\n",
    "\n",
    "explore_data(Google_Ds_clean, 0, 3, True) \n",
    "    "
   ]
  },
  {
   "cell_type": "markdown",
   "metadata": {},
   "source": [
    "#### Perfect! We can validate that our new and cleaned *Google_Ds_clean* has all the rows it should have: 9659"
   ]
  },
  {
   "cell_type": "markdown",
   "metadata": {},
   "source": [
    "### Scouring through the Data of both Datasets one can check that there are several apps that are for non-english users!\n"
   ]
  },
  {
   "cell_type": "code",
   "execution_count": 12,
   "metadata": {
    "collapsed": false
   },
   "outputs": [
    {
     "name": "stdout",
     "output_type": "stream",
     "text": [
      "中国語 AQリスニング\n",
      "لعبة تقدر تربح DZ\n",
      "\n",
      "\n",
      "爱奇艺PPS -《欢乐颂2》电视剧热播\n"
     ]
    }
   ],
   "source": [
    "print(Google_Ds_clean[4412][0])\n",
    "print(Google_Ds_clean[7940][0])\n",
    "print('\\n')\n",
    "print(Apps_Ds[814][1])"
   ]
  },
  {
   "cell_type": "markdown",
   "metadata": {},
   "source": [
    "  - Bellow we will try to creat a function that uses the ASCII counting system (0-127) to count each character of an inputed string and sort which ones bellong to the English common set of characters, and which ones dont:"
   ]
  },
  {
   "cell_type": "code",
   "execution_count": 13,
   "metadata": {
    "collapsed": false
   },
   "outputs": [],
   "source": [
    "def check_str_Eng(a_string):\n",
    "    \n",
    "    for character in a_string:\n",
    "        if ord(character) > 127:\n",
    "            return False\n",
    "    else: \n",
    "        return True\n",
    "    '''esta linha do else tem que estar fora da 1º condição if. Isto vai fzr 1\n",
    "           validação da 1º condição em cada loop e, se encontra dentro d cada\n",
    "           iteração, seja ela a 1º iteração p ex, 1 caracter q seja verdadeiro \n",
    "           ele pára a iteração e da a string como verdadeira e correndo os \n",
    "           outros caracteres da string. Dai que temos que os correr todos 1º,\n",
    "           para avaliar se não pertencem, e só dp de os corrermos tds é que \n",
    "           podemos validar a string como True, sim, pertence ao sistema ASCII'''\n",
    "        "
   ]
  },
  {
   "cell_type": "code",
   "execution_count": 14,
   "metadata": {
    "collapsed": false
   },
   "outputs": [
    {
     "name": "stdout",
     "output_type": "stream",
     "text": [
      "True\n"
     ]
    }
   ],
   "source": [
    "print(check_str_Eng('Instagram'))"
   ]
  },
  {
   "cell_type": "code",
   "execution_count": 15,
   "metadata": {
    "collapsed": false
   },
   "outputs": [
    {
     "name": "stdout",
     "output_type": "stream",
     "text": [
      "False\n"
     ]
    }
   ],
   "source": [
    "print(check_str_Eng('爱奇艺PPS -《欢乐颂2》电视剧热播'))"
   ]
  },
  {
   "cell_type": "code",
   "execution_count": 16,
   "metadata": {
    "collapsed": false
   },
   "outputs": [
    {
     "name": "stdout",
     "output_type": "stream",
     "text": [
      "False\n"
     ]
    }
   ],
   "source": [
    "print(check_str_Eng('Docs To Go™ Free Office Suite'))"
   ]
  },
  {
   "cell_type": "code",
   "execution_count": 17,
   "metadata": {
    "collapsed": false
   },
   "outputs": [
    {
     "name": "stdout",
     "output_type": "stream",
     "text": [
      "False\n"
     ]
    }
   ],
   "source": [
    "print(check_str_Eng('Instachat 😜'))"
   ]
  },
  {
   "cell_type": "markdown",
   "metadata": {
    "collapsed": true
   },
   "source": [
    "### Some of the *\"English_Apps\"*  are being tagged as not bellonging to the Dataset of English language market target. This happens due to special characters embedded on their names, such as ™ or emojis\n",
    "    - We will have to create a different function, one that takes into account this special characters, and we will do so by first defining a cutoff. \n",
    "    - Our new function should accept up to a max of 3 special characters per string in order to catalogue it as an *\"English_Apps\"*. Anything more than this and the app should fall into the category of non-english!"
   ]
  },
  {
   "cell_type": "code",
   "execution_count": 18,
   "metadata": {
    "collapsed": false
   },
   "outputs": [],
   "source": [
    "def check_str_Eng_1(a_string):\n",
    "    n_Falses = 0\n",
    "    for character in a_string:\n",
    "        if ord(character) > 127:\n",
    "            n_Falses += 1\n",
    "            if n_Falses > 3:\n",
    "                return False\n",
    "    else:\n",
    "        return True"
   ]
  },
  {
   "cell_type": "code",
   "execution_count": 19,
   "metadata": {
    "collapsed": false
   },
   "outputs": [
    {
     "name": "stdout",
     "output_type": "stream",
     "text": [
      "True\n"
     ]
    }
   ],
   "source": [
    "print(check_str_Eng_1('Docs To Go™ Free Office Suite'))"
   ]
  },
  {
   "cell_type": "code",
   "execution_count": 20,
   "metadata": {
    "collapsed": false
   },
   "outputs": [
    {
     "name": "stdout",
     "output_type": "stream",
     "text": [
      "True\n"
     ]
    }
   ],
   "source": [
    "print(check_str_Eng_1('Instachat 😜'))"
   ]
  },
  {
   "cell_type": "code",
   "execution_count": 21,
   "metadata": {
    "collapsed": false
   },
   "outputs": [
    {
     "name": "stdout",
     "output_type": "stream",
     "text": [
      "False\n"
     ]
    }
   ],
   "source": [
    "print(check_str_Eng_1('爱奇艺PPS -《欢乐颂2》电视剧热播'))"
   ]
  },
  {
   "cell_type": "markdown",
   "metadata": {},
   "source": [
    "## PERFECT, VALIDATED! "
   ]
  },
  {
   "cell_type": "markdown",
   "metadata": {},
   "source": [
    "- Applying our function to both Datasets:"
   ]
  },
  {
   "cell_type": "code",
   "execution_count": 22,
   "metadata": {
    "collapsed": false
   },
   "outputs": [
    {
     "name": "stdout",
     "output_type": "stream",
     "text": [
      "['Photo Editor & Candy Camera & Grid & ScrapBook', 'ART_AND_DESIGN', '4.1', '159', '19M', '10,000+', 'Free', '0', 'Everyone', 'Art & Design', 'January 7, 2018', '1.0.0', '4.0.3 and up']\n",
      "\n",
      "\n",
      "['U Launcher Lite – FREE Live Cool Themes, Hide Apps', 'ART_AND_DESIGN', '4.7', '87510', '8.7M', '5,000,000+', 'Free', '0', 'Everyone', 'Art & Design', 'August 1, 2018', '1.2.4', '4.0.3 and up']\n",
      "\n",
      "\n",
      "['Sketch - Draw & Paint', 'ART_AND_DESIGN', '4.5', '215644', '25M', '50,000,000+', 'Free', '0', 'Teen', 'Art & Design', 'June 8, 2018', 'Varies with device', '4.2 and up']\n",
      "\n",
      "\n",
      "['Pixel Draw - Number Art Coloring Book', 'ART_AND_DESIGN', '4.3', '967', '2.8M', '100,000+', 'Free', '0', 'Everyone', 'Art & Design;Creativity', 'June 20, 2018', '1.1', '4.4 and up']\n",
      "\n",
      "\n",
      "Number of rows: 9614\n",
      "Number of columns: 13\n",
      "\n",
      "\n",
      "\n",
      "\n",
      "['id', 'track_name', 'size_bytes', 'currency', 'price', 'rating_count_tot', 'rating_count_ver', 'user_rating', 'user_rating_ver', 'ver', 'cont_rating', 'prime_genre', 'sup_devices.num', 'ipadSc_urls.num', 'lang.num', 'vpp_lic']\n",
      "\n",
      "\n",
      "['284882215', 'Facebook', '389879808', 'USD', '0.0', '2974676', '212', '3.5', '3.5', '95.0', '4+', 'Social Networking', '37', '1', '29', '1']\n",
      "\n",
      "\n",
      "['389801252', 'Instagram', '113954816', 'USD', '0.0', '2161558', '1289', '4.5', '4.0', '10.23', '12+', 'Photo & Video', '37', '0', '29', '1']\n",
      "\n",
      "\n",
      "['529479190', 'Clash of Clans', '116476928', 'USD', '0.0', '2130805', '579', '4.5', '4.5', '9.24.12', '9+', 'Games', '38', '5', '18', '1']\n",
      "\n",
      "\n",
      "Number of rows: 6184\n",
      "Number of columns: 16\n"
     ]
    }
   ],
   "source": [
    "Google_Ds_clean_1 = []\n",
    "Apps_Ds_clean_1 = []\n",
    "\n",
    "\n",
    "for app in Google_Ds_clean:\n",
    "        name = app[0]\n",
    "        if check_str_Eng_1(name):\n",
    "            Google_Ds_clean_1.append(app)\n",
    "            \n",
    "for app in Apps_Ds:\n",
    "    name = app[1]\n",
    "    if check_str_Eng_1(name):\n",
    "        Apps_Ds_clean_1.append(app)\n",
    "\n",
    "explore_data(Google_Ds_clean_1, 0, 4, True)\n",
    "print('\\n')\n",
    "print('\\n')\n",
    "explore_data(Apps_Ds_clean_1, 0, 4, True)\n",
    "\n",
    "        "
   ]
  },
  {
   "cell_type": "markdown",
   "metadata": {},
   "source": [
    "### Now we are moving to our last stage of the data cleaning process! We already:\n",
    "    - Removed inncurate data;\n",
    "    - Removed duplicate app entries;\n",
    "    - Removed non-English apps.\n",
    "### Now its time to remove all the apps from both Datasets that arent for free:"
   ]
  },
  {
   "cell_type": "code",
   "execution_count": 23,
   "metadata": {
    "collapsed": false
   },
   "outputs": [
    {
     "name": "stdout",
     "output_type": "stream",
     "text": [
      "['U Launcher Lite – FREE Live Cool Themes, Hide Apps', 'ART_AND_DESIGN', '4.7', '87510', '8.7M', '5,000,000+', 'Free', '0', 'Everyone', 'Art & Design', 'August 1, 2018', '1.2.4', '4.0.3 and up']\n",
      "\n",
      "\n",
      "['Sketch - Draw & Paint', 'ART_AND_DESIGN', '4.5', '215644', '25M', '50,000,000+', 'Free', '0', 'Teen', 'Art & Design', 'June 8, 2018', 'Varies with device', '4.2 and up']\n",
      "\n",
      "\n",
      "['Pixel Draw - Number Art Coloring Book', 'ART_AND_DESIGN', '4.3', '967', '2.8M', '100,000+', 'Free', '0', 'Everyone', 'Art & Design;Creativity', 'June 20, 2018', '1.1', '4.4 and up']\n",
      "\n",
      "\n",
      "['Paper flowers instructions', 'ART_AND_DESIGN', '4.4', '167', '5.6M', '50,000+', 'Free', '0', 'Everyone', 'Art & Design', 'March 26, 2017', '1.0', '2.3 and up']\n",
      "\n",
      "\n",
      "Number of rows: 8862\n",
      "Number of columns: 13\n",
      "\n",
      "\n",
      "\n",
      "\n",
      "['284882215', 'Facebook', '389879808', 'USD', '0.0', '2974676', '212', '3.5', '3.5', '95.0', '4+', 'Social Networking', '37', '1', '29', '1']\n",
      "\n",
      "\n",
      "['389801252', 'Instagram', '113954816', 'USD', '0.0', '2161558', '1289', '4.5', '4.0', '10.23', '12+', 'Photo & Video', '37', '0', '29', '1']\n",
      "\n",
      "\n",
      "['529479190', 'Clash of Clans', '116476928', 'USD', '0.0', '2130805', '579', '4.5', '4.5', '9.24.12', '9+', 'Games', '38', '5', '18', '1']\n",
      "\n",
      "\n",
      "['420009108', 'Temple Run', '65921024', 'USD', '0.0', '1724546', '3842', '4.5', '4.0', '1.6.2', '9+', 'Games', '40', '5', '1', '1']\n",
      "\n",
      "\n",
      "Number of rows: 3222\n",
      "Number of columns: 16\n"
     ]
    }
   ],
   "source": [
    "Google_Ds_clean_2 = []\n",
    "Apps_Ds_clean_2 = []\n",
    "\n",
    "\n",
    "for column in Google_Ds_clean_1[1:]:\n",
    "    type_price = column[6]\n",
    "    price = column[7]\n",
    "    if type_price == 'Free' and price == '0':\n",
    "        Google_Ds_clean_2.append(column)\n",
    "        \n",
    "for column in Apps_Ds_clean_1[1:]:\n",
    "    price = column[4]\n",
    "    if price == '0.0':\n",
    "        Apps_Ds_clean_2.append(column)\n",
    "\n",
    "explore_data(Google_Ds_clean_2, 0, 4, True)\n",
    "print('\\n')\n",
    "print('\\n')\n",
    "explore_data(Apps_Ds_clean_2, 0, 4, True)\n",
    "       "
   ]
  },
  {
   "cell_type": "markdown",
   "metadata": {},
   "source": [
    "#### We were left with **3222 rows in the Apps_Ds_clean_2** and **8862 in the Google_Ds_clean_2**"
   ]
  },
  {
   "cell_type": "markdown",
   "metadata": {},
   "source": [
    "## In this phase we will need to evaluate which of the free apps from both Datasets are most common their own markets! We will do so by first constructing 2 frequency tables for each of the 2 Datasets and their respective genres "
   ]
  },
  {
   "cell_type": "code",
   "execution_count": 24,
   "metadata": {
    "collapsed": false
   },
   "outputs": [
    {
     "name": "stdout",
     "output_type": "stream",
     "text": [
      "Google: {'HEALTH_AND_FITNESS': 273, 'BUSINESS': 407, 'BEAUTY': 53, 'WEATHER': 71, 'MEDICAL': 313, 'VIDEO_PLAYERS': 159, 'GAME': 862, 'LIBRARIES_AND_DEMO': 83, 'HOUSE_AND_HOME': 73, 'NEWS_AND_MAGAZINES': 248, 'EVENTS': 63, 'PARENTING': 58, 'ENTERTAINMENT': 85, 'EDUCATION': 103, 'BOOKS_AND_REFERENCE': 190, 'SOCIAL': 236, 'COMMUNICATION': 287, 'SHOPPING': 199, 'TRAVEL_AND_LOCAL': 207, 'LIFESTYLE': 346, 'MAPS_AND_NAVIGATION': 124, 'PHOTOGRAPHY': 261, 'FINANCE': 328, 'AUTO_AND_VEHICLES': 82, 'DATING': 165, 'ART_AND_DESIGN': 55, 'SPORTS': 301, 'COMICS': 55, 'PERSONALIZATION': 294, 'PRODUCTIVITY': 345, 'FAMILY': 1675, 'TOOLS': 750, 'FOOD_AND_DRINK': 110}\n",
      "\n",
      "\n",
      "Apps: {'Music': 66, 'Utilities': 81, 'Social Networking': 105, 'Sports': 69, 'Games': 1874, 'Health & Fitness': 65, 'Travel': 40, 'Finance': 36, 'Book': 14, 'Reference': 18, 'Lifestyle': 51, 'Navigation': 6, 'Photo & Video': 160, 'Shopping': 84, 'Medical': 6, 'News': 43, 'Education': 118, 'Productivity': 56, 'Business': 17, 'Entertainment': 254, 'Food & Drink': 26, 'Weather': 28, 'Catalogs': 4}\n"
     ]
    }
   ],
   "source": [
    "frequency_table_Google_Ds = {}\n",
    "frequency_table_Apps_Ds = {}\n",
    "\n",
    "for column in Google_Ds_clean_2[1:]:\n",
    "    app_genre = column[1]\n",
    "    \n",
    "    if app_genre in frequency_table_Google_Ds:\n",
    "        frequency_table_Google_Ds[app_genre] += 1\n",
    "    else:\n",
    "        frequency_table_Google_Ds[app_genre] = 1\n",
    "     \n",
    "    \n",
    "for column in Apps_Ds_clean_2[1:]:\n",
    "    app_genre = column[11]\n",
    "    \n",
    "    if app_genre in frequency_table_Apps_Ds:\n",
    "        frequency_table_Apps_Ds[app_genre] += 1   \n",
    "    else:\n",
    "        frequency_table_Apps_Ds[app_genre] = 1\n",
    "\n",
    "print('Google:',  frequency_table_Google_Ds)\n",
    "print('\\n')\n",
    "print('Apps:', frequency_table_Apps_Ds)\n",
    "\n"
   ]
  },
  {
   "cell_type": "markdown",
   "metadata": {},
   "source": [
    "- ##### Now that we know that one of the most common free apps both in Apps and Google are of the genre *Games*:\n",
    "\n",
    "    - Our goal will be to develop one *Game* app and provide it in the *Google App Store*. \n",
    "    - We will do so by undertaken the minimun resources as this should be a sample pilot test that, if results in a good response from the market ougth to be further developed.\n",
    "        - If it reaches profitability in 6 months we should direct it to the *App Store* market as well! "
   ]
  },
  {
   "cell_type": "markdown",
   "metadata": {},
   "source": [
    "- We can now creat a generic function, that we can use to extract a frequency table, expressed in percentages, out of any Dataset and of any feature of it! \n",
    "\n",
    "- That's what we will try to do bellow:"
   ]
  },
  {
   "cell_type": "code",
   "execution_count": 25,
   "metadata": {
    "collapsed": false
   },
   "outputs": [],
   "source": [
    "def freq_table(dataset, index):\n",
    "    feature_percentages = {}\n",
    "    n_apps = len(dataset)\n",
    "    features = {}\n",
    "    for row in dataset:\n",
    "        feature = row[index]\n",
    "        if feature not in features:\n",
    "            features[feature] = 1\n",
    "        else:\n",
    "            features[feature] += 1\n",
    "      \n",
    "    for key in features:\n",
    "        value = features[key]\n",
    "        feature_percentages[key] = 100 * value/n_apps\n",
    "    \n",
    "    return feature_percentages  "
   ]
  },
  {
   "cell_type": "markdown",
   "metadata": {},
   "source": [
    "   - Above we created a function that accpets 2 inputs (a dataset and an index. \n",
    "    - Created 2 empty dicts (feature_percentages + features)\n",
    "    - Looped through each row of our choosen dataset, and for each loop we assigned our index row choosen to a variable named feature\n",
    "        - In each loop we check if the feature we've choosen is not in the empty dict we created named features, if it isn't we need to assigned that feature there as a *Key*. If in the next loop it finds there that feature as a *Key* it should add a value to it\n",
    "        \n",
    "    - After this we created another for Loop to iterate through the new and fully filled *features* dict. \n",
    "        - for each iteration our loop will extract the *Value* out of each *Key* and asign it to a variable named **value**\n",
    "        - and also for each iteration it will fill our other empty dict **feature_percentages** with each *Key* and it corresponding *Value* but express as the percentage that it represents in the full length of our Dataset"
   ]
  },
  {
   "cell_type": "markdown",
   "metadata": {},
   "source": [
    "- Now let's see if it's working:"
   ]
  },
  {
   "cell_type": "code",
   "execution_count": 26,
   "metadata": {
    "collapsed": false
   },
   "outputs": [
    {
     "data": {
      "text/plain": [
       "{'ART_AND_DESIGN': 0.631911532385466,\n",
       " 'AUTO_AND_VEHICLES': 0.9252990295644324,\n",
       " 'BEAUTY': 0.598059128864816,\n",
       " 'BOOKS_AND_REFERENCE': 2.143985556307831,\n",
       " 'BUSINESS': 4.592642744301512,\n",
       " 'COMICS': 0.6206273978785827,\n",
       " 'COMMUNICATION': 3.2385466034755135,\n",
       " 'DATING': 1.8618821936357481,\n",
       " 'EDUCATION': 1.162265854208982,\n",
       " 'ENTERTAINMENT': 0.9591514330850823,\n",
       " 'EVENTS': 0.7109004739336493,\n",
       " 'FAMILY': 18.900925299029563,\n",
       " 'FINANCE': 3.7011961182577298,\n",
       " 'FOOD_AND_DRINK': 1.2412547957571654,\n",
       " 'GAME': 9.726923944933423,\n",
       " 'HEALTH_AND_FITNESS': 3.080568720379147,\n",
       " 'HOUSE_AND_HOME': 0.8237418190024826,\n",
       " 'LIBRARIES_AND_DEMO': 0.9365831640713157,\n",
       " 'LIFESTYLE': 3.9043105393816293,\n",
       " 'MAPS_AND_NAVIGATION': 1.3992326788535319,\n",
       " 'MEDICAL': 3.53193410065448,\n",
       " 'NEWS_AND_MAGAZINES': 2.7984653577070637,\n",
       " 'PARENTING': 0.6544798013992327,\n",
       " 'PERSONALIZATION': 3.3175355450236967,\n",
       " 'PHOTOGRAPHY': 2.945159106296547,\n",
       " 'PRODUCTIVITY': 3.893026404874746,\n",
       " 'SHOPPING': 2.245542766869781,\n",
       " 'SOCIAL': 2.663055743624464,\n",
       " 'SPORTS': 3.39652448657188,\n",
       " 'TOOLS': 8.463100880162491,\n",
       " 'TRAVEL_AND_LOCAL': 2.3358158429248475,\n",
       " 'VIDEO_PLAYERS': 1.7941773865944481,\n",
       " 'WEATHER': 0.8011735499887158}"
      ]
     },
     "execution_count": 26,
     "metadata": {},
     "output_type": "execute_result"
    }
   ],
   "source": [
    "freq_table(Google_Ds_clean_2, 1)"
   ]
  },
  {
   "cell_type": "markdown",
   "metadata": {},
   "source": [
    "##### PERFECT!"
   ]
  },
  {
   "cell_type": "markdown",
   "metadata": {},
   "source": [
    "#### Aplying our *freq_table* function to another function (display_table()), in order to see/sort our frequency table in a particular order...:"
   ]
  },
  {
   "cell_type": "code",
   "execution_count": 27,
   "metadata": {
    "collapsed": true
   },
   "outputs": [],
   "source": [
    "def display_table(dataset, index):\n",
    "    table = freq_table(dataset, index)\n",
    "    table_display = []\n",
    "    for key in table:\n",
    "        key_val_as_tuple = (table[key], key)\n",
    "        table_display.append(key_val_as_tuple)\n",
    "\n",
    "    table_sorted = sorted(table_display, reverse = True)\n",
    "    for entry in table_sorted:\n",
    "        print(entry[1], ':', entry[0])"
   ]
  },
  {
   "cell_type": "code",
   "execution_count": 28,
   "metadata": {
    "collapsed": false
   },
   "outputs": [
    {
     "name": "stdout",
     "output_type": "stream",
     "text": [
      "FAMILY : 18.900925299029563\n",
      "GAME : 9.726923944933423\n",
      "TOOLS : 8.463100880162491\n",
      "BUSINESS : 4.592642744301512\n",
      "LIFESTYLE : 3.9043105393816293\n",
      "PRODUCTIVITY : 3.893026404874746\n",
      "FINANCE : 3.7011961182577298\n",
      "MEDICAL : 3.53193410065448\n",
      "SPORTS : 3.39652448657188\n",
      "PERSONALIZATION : 3.3175355450236967\n",
      "COMMUNICATION : 3.2385466034755135\n",
      "HEALTH_AND_FITNESS : 3.080568720379147\n",
      "PHOTOGRAPHY : 2.945159106296547\n",
      "NEWS_AND_MAGAZINES : 2.7984653577070637\n",
      "SOCIAL : 2.663055743624464\n",
      "TRAVEL_AND_LOCAL : 2.3358158429248475\n",
      "SHOPPING : 2.245542766869781\n",
      "BOOKS_AND_REFERENCE : 2.143985556307831\n",
      "DATING : 1.8618821936357481\n",
      "VIDEO_PLAYERS : 1.7941773865944481\n",
      "MAPS_AND_NAVIGATION : 1.3992326788535319\n",
      "FOOD_AND_DRINK : 1.2412547957571654\n",
      "EDUCATION : 1.162265854208982\n",
      "ENTERTAINMENT : 0.9591514330850823\n",
      "LIBRARIES_AND_DEMO : 0.9365831640713157\n",
      "AUTO_AND_VEHICLES : 0.9252990295644324\n",
      "HOUSE_AND_HOME : 0.8237418190024826\n",
      "WEATHER : 0.8011735499887158\n",
      "EVENTS : 0.7109004739336493\n",
      "PARENTING : 0.6544798013992327\n",
      "ART_AND_DESIGN : 0.631911532385466\n",
      "COMICS : 0.6206273978785827\n",
      "BEAUTY : 0.598059128864816\n",
      "None\n",
      "\n",
      "\n",
      "Tools : 8.451816745655607\n",
      "Entertainment : 6.070864364703227\n",
      "Education : 5.348679756262695\n",
      "Business : 4.592642744301512\n",
      "Productivity : 3.893026404874746\n",
      "Lifestyle : 3.893026404874746\n",
      "Finance : 3.7011961182577298\n",
      "Medical : 3.53193410065448\n",
      "Sports : 3.46422929361318\n",
      "Personalization : 3.3175355450236967\n",
      "Communication : 3.2385466034755135\n",
      "Action : 3.1031369893929135\n",
      "Health & Fitness : 3.080568720379147\n",
      "Photography : 2.945159106296547\n",
      "News & Magazines : 2.7984653577070637\n",
      "Social : 2.663055743624464\n",
      "Travel & Local : 2.324531708417964\n",
      "Shopping : 2.245542766869781\n",
      "Books & Reference : 2.143985556307831\n",
      "Simulation : 2.0424283457458814\n",
      "Dating : 1.8618821936357481\n",
      "Arcade : 1.8505980591288649\n",
      "Video Players & Editors : 1.7716091175806816\n",
      "Casual : 1.7603249830737981\n",
      "Maps & Navigation : 1.3992326788535319\n",
      "Food & Drink : 1.2412547957571654\n",
      "Puzzle : 1.128413450688332\n",
      "Racing : 0.9930038366057323\n",
      "Role Playing : 0.9365831640713157\n",
      "Libraries & Demo : 0.9365831640713157\n",
      "Auto & Vehicles : 0.9252990295644324\n",
      "Strategy : 0.9027307605506658\n",
      "House & Home : 0.8237418190024826\n",
      "Weather : 0.8011735499887158\n",
      "Events : 0.7109004739336493\n",
      "Adventure : 0.6770480704129993\n",
      "Comics : 0.6093432633716994\n",
      "Beauty : 0.598059128864816\n",
      "Art & Design : 0.5867749943579328\n",
      "Parenting : 0.49650191830286616\n",
      "Card : 0.4513653802753329\n",
      "Casino : 0.4287971112615662\n",
      "Trivia : 0.4175129767546829\n",
      "Educational;Education : 0.3949447077409163\n",
      "Board : 0.38366057323403296\n",
      "Educational : 0.37237643872714965\n",
      "Education;Education : 0.33852403520649965\n",
      "Word : 0.2595350936583164\n",
      "Casual;Pretend Play : 0.23696682464454977\n",
      "Music : 0.2031144211238998\n",
      "Racing;Action & Adventure : 0.16926201760324983\n",
      "Puzzle;Brain Games : 0.16926201760324983\n",
      "Entertainment;Music & Video : 0.16926201760324983\n",
      "Casual;Brain Games : 0.13540961408259986\n",
      "Casual;Action & Adventure : 0.13540961408259986\n",
      "Arcade;Action & Adventure : 0.12412547957571654\n",
      "Action;Action & Adventure : 0.1015572105619499\n",
      "Educational;Pretend Play : 0.09027307605506657\n",
      "Simulation;Action & Adventure : 0.07898894154818326\n",
      "Parenting;Education : 0.07898894154818326\n",
      "Entertainment;Brain Games : 0.07898894154818326\n",
      "Board;Brain Games : 0.07898894154818326\n",
      "Parenting;Music & Video : 0.06770480704129993\n",
      "Educational;Brain Games : 0.06770480704129993\n",
      "Casual;Creativity : 0.06770480704129993\n",
      "Art & Design;Creativity : 0.06770480704129993\n",
      "Education;Pretend Play : 0.05642067253441661\n",
      "Role Playing;Pretend Play : 0.045136538027533285\n",
      "Education;Creativity : 0.045136538027533285\n",
      "Role Playing;Action & Adventure : 0.033852403520649964\n",
      "Puzzle;Action & Adventure : 0.033852403520649964\n",
      "Entertainment;Creativity : 0.033852403520649964\n",
      "Entertainment;Action & Adventure : 0.033852403520649964\n",
      "Educational;Creativity : 0.033852403520649964\n",
      "Educational;Action & Adventure : 0.033852403520649964\n",
      "Education;Music & Video : 0.033852403520649964\n",
      "Education;Brain Games : 0.033852403520649964\n",
      "Education;Action & Adventure : 0.033852403520649964\n",
      "Adventure;Action & Adventure : 0.033852403520649964\n",
      "Video Players & Editors;Music & Video : 0.022568269013766643\n",
      "Sports;Action & Adventure : 0.022568269013766643\n",
      "Simulation;Pretend Play : 0.022568269013766643\n",
      "Puzzle;Creativity : 0.022568269013766643\n",
      "Music;Music & Video : 0.022568269013766643\n",
      "Entertainment;Pretend Play : 0.022568269013766643\n",
      "Casual;Education : 0.022568269013766643\n",
      "Board;Action & Adventure : 0.022568269013766643\n",
      "Video Players & Editors;Creativity : 0.011284134506883321\n",
      "Trivia;Education : 0.011284134506883321\n",
      "Travel & Local;Action & Adventure : 0.011284134506883321\n",
      "Tools;Education : 0.011284134506883321\n",
      "Strategy;Education : 0.011284134506883321\n",
      "Strategy;Creativity : 0.011284134506883321\n",
      "Strategy;Action & Adventure : 0.011284134506883321\n",
      "Simulation;Education : 0.011284134506883321\n",
      "Role Playing;Brain Games : 0.011284134506883321\n",
      "Racing;Pretend Play : 0.011284134506883321\n",
      "Puzzle;Education : 0.011284134506883321\n",
      "Parenting;Brain Games : 0.011284134506883321\n",
      "Music & Audio;Music & Video : 0.011284134506883321\n",
      "Lifestyle;Pretend Play : 0.011284134506883321\n",
      "Lifestyle;Education : 0.011284134506883321\n",
      "Health & Fitness;Education : 0.011284134506883321\n",
      "Health & Fitness;Action & Adventure : 0.011284134506883321\n",
      "Entertainment;Education : 0.011284134506883321\n",
      "Communication;Creativity : 0.011284134506883321\n",
      "Comics;Creativity : 0.011284134506883321\n",
      "Casual;Music & Video : 0.011284134506883321\n",
      "Card;Action & Adventure : 0.011284134506883321\n",
      "Books & Reference;Education : 0.011284134506883321\n",
      "Art & Design;Pretend Play : 0.011284134506883321\n",
      "Art & Design;Action & Adventure : 0.011284134506883321\n",
      "Arcade;Pretend Play : 0.011284134506883321\n",
      "Adventure;Education : 0.011284134506883321\n",
      "None\n",
      "\n",
      "\n",
      "Games : 58.16263190564867\n",
      "Entertainment : 7.883302296710118\n",
      "Photo & Video : 4.9658597144630665\n",
      "Education : 3.6623215394165114\n",
      "Social Networking : 3.2898820608317814\n",
      "Shopping : 2.60707635009311\n",
      "Utilities : 2.5139664804469275\n",
      "Sports : 2.1415270018621975\n",
      "Music : 2.0484171322160147\n",
      "Health & Fitness : 2.017380509000621\n",
      "Productivity : 1.7380509000620732\n",
      "Lifestyle : 1.5828677839851024\n",
      "News : 1.3345747982619491\n",
      "Travel : 1.2414649286157666\n",
      "Finance : 1.1173184357541899\n",
      "Weather : 0.8690254500310366\n",
      "Food & Drink : 0.8069522036002483\n",
      "Reference : 0.5586592178770949\n",
      "Business : 0.5276225946617008\n",
      "Book : 0.4345127250155183\n",
      "Navigation : 0.186219739292365\n",
      "Medical : 0.186219739292365\n",
      "Catalogs : 0.12414649286157665\n",
      "None\n"
     ]
    }
   ],
   "source": [
    "print(display_table(Google_Ds_clean_2, 1))\n",
    "print('\\n')\n",
    "print(display_table(Google_Ds_clean_2, 9))\n",
    "print('\\n')\n",
    "print(display_table(Apps_Ds_clean_2, 11))"
   ]
  },
  {
   "cell_type": "markdown",
   "metadata": {},
   "source": [
    "#### Some first impressions on the FT (frequency table) of the DataSet Apps_Ds_clean_2 (Apple App Store_free_english_apps):\n",
    "\n",
    "   - Analyzing the DataSet one can conclude that the most common genre in this sample is *Games* representing more than half (58%) of all the apps in our DataSet. Followed, far behind, by the genre *Entertainment* with approximately 8% (7.88%);\n",
    "   - Another interesting pattern in the DataSet is that there are almost no English free apps in the genre *Navigation*! Due to intensive competition from the free Google App *Google Maps* (?). Probably won't be either much market, I would risk almost none, for the paid ones in this genre! \n",
    "    *Medical* is also a genre were developers do not offer much of free English Apps, maybe because this is more of a market that first has to \"pass through\" a middle man (doctor?) or an institution (hospital?) in order to monitize their products. Therefore, making it difficult for this market to profit and to rev up sales targeting directly their consumers, who first are not the most suitable ones to choose on their own this array of products, and second, in a legal matter, couldn't even do it all by themselfs without proper medical advice;\n",
    "   - Generally we can see that most of the free English apps are designed and developed towards entertainment rather than pratical purposes. With the top 6 being occupied by app genres such as *Games*, *Entertainment*, *Photo & Video*, *Education*, *Social Networking* and *Shoping* and the bottom 6 *Reference*, *Business*, *Book*, *Navigation*, *Medical*, *Catalogs*;\n",
    "   - One, based only in this FT, could not blindly recommend an app profile for this market. The info, I think, its insufficient to take any final conclusion. We could make a wrong conclusion by saying that if there's a lot of apps developed in the *Games* genre then maybe thats were there are more users or more market share. This could be right, but it could also be profoundly wrong! This could mean, for example, that Game apps are easier to develop, therefore being available for a big array of developers to jump in and flood the market, trying their luck. It could also mean that developing Games is cheaper, making this genre appealing for a pilot app for future development! **To better grasp this matter I think we should cross this info with others (rating_count_tot(?)**\n"
   ]
  },
  {
   "cell_type": "markdown",
   "metadata": {
    "collapsed": true
   },
   "source": [
    "#### Some first impressions on the FT of the DataSet Google_Ds_clean_2 (Google Play Store_free_english_apps):"
   ]
  },
  {
   "cell_type": "markdown",
   "metadata": {},
   "source": [
    "   - The most common **Genre** of apps here is *Tools* with 8,4% followed by *Entertainment* with aprox 6,07%, and in the third position comes Education counting ca. 5,35% of all free english apps developed; \n",
    "   - In the **Category** designation *Tools* has also a prime position, coming in third with approximately 8,5%, in second is *Games* with 9,7% of all developed apps, and in the first position highlighted with almost 19% (18,9%) is the **Category** *Family*;\n",
    "   - Education and Productivity orientated Apps, play in Google Play Store a major role. With *Tools*, *Family*, and *Education* being in the top 3 of both **Genres** and **Category**;\n",
    "   - Comparing this patterns with the ones discovered in the **Apps_Ds_clean_2** DataSet we can conclude that although the **Genre** *Games* play an important role in both DataSet's, it is far less important in Google Play Store than in Apple Store (9,7% Vs. 58%). We can also assume that Apple Store is more Entertainment orientated compared to the Google one.\n",
    "   - Once more, for a better understandment and a more useful recommendation of which app to develop, we should cross this info with other such has *Installs* and *Reviews*. With this 3 sections we should get a pretty accurate view of whats the most popular genre of Apps, or which kind of App should we be targeting our efforts into.  "
   ]
  },
  {
   "cell_type": "code",
   "execution_count": 29,
   "metadata": {
    "collapsed": false
   },
   "outputs": [
    {
     "name": "stdout",
     "output_type": "stream",
     "text": [
      "{'Music': 2.0484171322160147, 'Utilities': 2.5139664804469275, 'Business': 0.5276225946617008, 'Sports': 2.1415270018621975, 'Games': 58.16263190564867, 'Health & Fitness': 2.017380509000621, 'Navigation': 0.186219739292365, 'Travel': 1.2414649286157666, 'Finance': 1.1173184357541899, 'Book': 0.4345127250155183, 'Reference': 0.5586592178770949, 'Lifestyle': 1.5828677839851024, 'Social Networking': 3.2898820608317814, 'Photo & Video': 4.9658597144630665, 'Shopping': 2.60707635009311, 'Medical': 0.186219739292365, 'News': 1.3345747982619491, 'Education': 3.6623215394165114, 'Productivity': 1.7380509000620732, 'Entertainment': 7.883302296710118, 'Food & Drink': 0.8069522036002483, 'Weather': 0.8690254500310366, 'Catalogs': 0.12414649286157665}\n"
     ]
    }
   ],
   "source": [
    "genres = freq_table(Apps_Ds_clean_2, 11)\n",
    "print(genres)"
   ]
  },
  {
   "cell_type": "code",
   "execution_count": 30,
   "metadata": {
    "collapsed": false
   },
   "outputs": [
    {
     "name": "stdout",
     "output_type": "stream",
     "text": [
      "Music : 57326.530303030304\n",
      "Utilities : 18684.456790123455\n",
      "Business : 7491.117647058823\n",
      "Sports : 23008.898550724636\n",
      "Games : 22788.6696905016\n",
      "Health & Fitness : 23298.015384615384\n",
      "Navigation : 86090.33333333333\n",
      "Travel : 28243.8\n",
      "Finance : 31467.944444444445\n",
      "Book : 39758.5\n",
      "Reference : 74942.11111111111\n",
      "Lifestyle : 16485.764705882353\n",
      "Social Networking : 71548.34905660378\n",
      "Photo & Video : 28441.54375\n",
      "Shopping : 26919.690476190477\n",
      "Medical : 612.0\n",
      "News : 21248.023255813954\n",
      "Education : 7003.983050847458\n",
      "Productivity : 21028.410714285714\n",
      "Entertainment : 14029.830708661417\n",
      "Food & Drink : 33333.92307692308\n",
      "Weather : 52279.892857142855\n",
      "Catalogs : 4004.0\n"
     ]
    }
   ],
   "source": [
    "for genre in genres:\n",
    "    total = 0 #this variable will store the total nº of ratings for each genre\n",
    "    len_genre = 0 #this variable will store the total nº of apps of each genre\n",
    "    \n",
    "    for row in Apps_Ds_clean_2:\n",
    "        genre_app = row[11]\n",
    "        if genre_app == genre:\n",
    "            user_ratings_app = float(row[5])\n",
    "            total += user_ratings_app\n",
    "            len_genre += 1\n",
    "            \n",
    "    avg_user_ratings = total/len_genre\n",
    "    \n",
    "    print(genre, ':', avg_user_ratings)\n",
    "\n",
    "\n",
    "\n",
    "    "
   ]
  },
  {
   "cell_type": "markdown",
   "metadata": {},
   "source": [
    "#### After doing this analysis, we can see that the most \"popular\" **Genre** is the *Navigation*. With an average of 86090 ratings per app developed. This is a very interesting result, since this one of the least developed apps_genre, coming in the top 3 of the last ones, followed by *Medical* and *Catalogs*.\n",
    "#### But I would no recommend a *Navigation* app, I would instead choose a *Social Networking* orientated one. It comes in 3rd has one of the most rated genres in average (71548) and on the other side is also one of the most popular genres in terms of number of apps developed, rating 5h (3.3%)"
   ]
  },
  {
   "cell_type": "code",
   "execution_count": 31,
   "metadata": {
    "collapsed": false,
    "scrolled": true
   },
   "outputs": [
    {
     "name": "stdout",
     "output_type": "stream",
     "text": [
      "{'FAMILY': 18.900925299029563, 'HEALTH_AND_FITNESS': 3.080568720379147, 'BUSINESS': 4.592642744301512, 'BEAUTY': 0.598059128864816, 'WEATHER': 0.8011735499887158, 'MEDICAL': 3.53193410065448, 'GAME': 9.726923944933423, 'LIBRARIES_AND_DEMO': 0.9365831640713157, 'HOUSE_AND_HOME': 0.8237418190024826, 'FINANCE': 3.7011961182577298, 'EVENTS': 0.7109004739336493, 'PARENTING': 0.6544798013992327, 'ENTERTAINMENT': 0.9591514330850823, 'EDUCATION': 1.162265854208982, 'TRAVEL_AND_LOCAL': 2.3358158429248475, 'SOCIAL': 2.663055743624464, 'COMMUNICATION': 3.2385466034755135, 'SHOPPING': 2.245542766869781, 'VIDEO_PLAYERS': 1.7941773865944481, 'LIFESTYLE': 3.9043105393816293, 'PHOTOGRAPHY': 2.945159106296547, 'MAPS_AND_NAVIGATION': 1.3992326788535319, 'AUTO_AND_VEHICLES': 0.9252990295644324, 'DATING': 1.8618821936357481, 'ART_AND_DESIGN': 0.631911532385466, 'NEWS_AND_MAGAZINES': 2.7984653577070637, 'COMICS': 0.6206273978785827, 'PERSONALIZATION': 3.3175355450236967, 'PRODUCTIVITY': 3.893026404874746, 'SPORTS': 3.39652448657188, 'TOOLS': 8.463100880162491, 'BOOKS_AND_REFERENCE': 2.143985556307831, 'FOOD_AND_DRINK': 1.2412547957571654}\n"
     ]
    }
   ],
   "source": [
    "Categories = freq_table(Google_Ds_clean_2, 1)\n",
    "print(Categories)"
   ]
  },
  {
   "cell_type": "code",
   "execution_count": 32,
   "metadata": {
    "collapsed": false
   },
   "outputs": [
    {
     "name": "stdout",
     "output_type": "stream",
     "text": [
      "FAMILY : 3697848.17\n",
      "HEALTH_AND_FITNESS : 4188821.99\n",
      "BUSINESS : 1712290.15\n",
      "BEAUTY : 513151.89\n",
      "WEATHER : 5074486.2\n",
      "MEDICAL : 120550.62\n",
      "GAME : 15588015.6\n",
      "LIBRARIES_AND_DEMO : 638503.73\n",
      "HOUSE_AND_HOME : 1331540.56\n",
      "FINANCE : 1387692.48\n",
      "EVENTS : 253542.22\n",
      "PARENTING : 542603.62\n",
      "ENTERTAINMENT : 11640705.88\n",
      "EDUCATION : 1833495.15\n",
      "TRAVEL_AND_LOCAL : 13984077.71\n",
      "SOCIAL : 23253652.13\n",
      "COMMUNICATION : 38456119.17\n",
      "SHOPPING : 7036877.31\n",
      "VIDEO_PLAYERS : 24727872.45\n",
      "LIFESTYLE : 1437816.27\n",
      "PHOTOGRAPHY : 17840110.4\n",
      "MAPS_AND_NAVIGATION : 4056941.77\n",
      "AUTO_AND_VEHICLES : 647317.82\n",
      "DATING : 854028.83\n",
      "ART_AND_DESIGN : 2021626.79\n",
      "NEWS_AND_MAGAZINES : 9549178.47\n",
      "COMICS : 817657.27\n",
      "PERSONALIZATION : 5201482.61\n",
      "PRODUCTIVITY : 16787331.34\n",
      "SPORTS : 3638640.14\n",
      "TOOLS : 10801391.3\n",
      "BOOKS_AND_REFERENCE : 8767811.89\n",
      "FOOD_AND_DRINK : 1924897.74\n"
     ]
    }
   ],
   "source": [
    "for category in Categories:\n",
    "    total = 0\n",
    "    len_category = 0\n",
    "    \n",
    "    for row in Google_Ds_clean_2:\n",
    "        category_app = row[1]\n",
    "        if category_app == category:\n",
    "            n_installs = row[5]\n",
    "            # Remove any + or , character, and then convert the string to a float.\n",
    "            n_installs = n_installs.replace('+', '')\n",
    "            n_installs = n_installs.replace(',', '')\n",
    "            n_installs = float(n_installs)\n",
    "            total += n_installs\n",
    "            len_category += 1\n",
    "            \n",
    "    avg_category_installs = total/len_category\n",
    "    print(category, ':', (round(avg_category_installs, 2)))\n",
    "\n",
    "        \n",
    "            \n",
    "    "
   ]
  },
  {
   "cell_type": "markdown",
   "metadata": {},
   "source": [
    "### After these results in both analysis (Apple Store + Google Play Store), I would recommend, as a free english-app our company should develop, an app orientated towards the *Social Network* ecosystem! Since in both DataSet's this genre/category is well positioned as beeing one of them that most buzz creats around users. Positioning itself at number 3 in Google Play Store, as one of the genres/categories with more installs in average per user (23253652.13). And if we take into consideration that the other first two genres/categories (*Communication* and *Video_Players*) may share apps with the *Social* genre and vice-versa, due to their similarity apps may have leaked and leaped from one of these 3 genres to another, we can attest the true value of the genre/category *Social Network/Social*\n",
    "\n",
    "### I would recommend the development of an app that could be used as a video-recording/Vlog and that could creat a social network around it and its users, sharing and commenting their content. Giving it also the ability to be shared in the more mainstream Social-Networks. Monetizing it in the first stage with adds, and in a second stage with fees, unlocking new abilities like for example UHD recording, following up to 100.000 friends or new recording filters. Taking full advantage of the 3 areas, *Communication*, *Video* and *Social* and also flowing with this new wave of a more narcissistic and influencers hostage society! "
   ]
  }
 ],
 "metadata": {
  "kernelspec": {
   "display_name": "Python 3",
   "language": "python",
   "name": "python3"
  },
  "language_info": {
   "codemirror_mode": {
    "name": "ipython",
    "version": 3
   },
   "file_extension": ".py",
   "mimetype": "text/x-python",
   "name": "python",
   "nbconvert_exporter": "python",
   "pygments_lexer": "ipython3",
   "version": "3.4.3"
  }
 },
 "nbformat": 4,
 "nbformat_minor": 2
}
